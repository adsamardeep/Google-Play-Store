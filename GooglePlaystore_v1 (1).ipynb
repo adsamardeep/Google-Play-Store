{
 "cells": [
  {
   "cell_type": "code",
   "execution_count": 1,
   "metadata": {
    "colab": {},
    "colab_type": "code",
    "id": "FwEnsz-QyYph"
   },
   "outputs": [],
   "source": [
    "import pandas as pd"
   ]
  },
  {
   "cell_type": "code",
   "execution_count": 2,
   "metadata": {
    "colab": {},
    "colab_type": "code",
    "id": "cIckk15vzrZM"
   },
   "outputs": [],
   "source": [
    "import numpy as np"
   ]
  },
  {
   "cell_type": "code",
   "execution_count": 3,
   "metadata": {
    "colab": {},
    "colab_type": "code",
    "id": "dqzdX1z05RRS"
   },
   "outputs": [],
   "source": [
    "import seaborn as sns"
   ]
  },
  {
   "cell_type": "code",
   "execution_count": 4,
   "metadata": {
    "colab": {},
    "colab_type": "code",
    "id": "s48d2f7k6r9z"
   },
   "outputs": [],
   "source": [
    "import matplotlib.pyplot as plt"
   ]
  },
  {
   "cell_type": "code",
   "execution_count": 5,
   "metadata": {
    "colab": {},
    "colab_type": "code",
    "id": "WhlMsU9U3jnb"
   },
   "outputs": [],
   "source": [
    "#1.\tLoad the data file using pandas."
   ]
  },
  {
   "cell_type": "code",
   "execution_count": 6,
   "metadata": {
    "colab": {},
    "colab_type": "code",
    "id": "yvnnbIBIFdoI"
   },
   "outputs": [],
   "source": [
    "data = pd.read_csv(\"F:/Courses/Simpli Learn/Data Analytics/3 Data Analytics with Python/Live Classes/Project/googleplaystore/googleplaystore.csv\")"
   ]
  },
  {
   "cell_type": "code",
   "execution_count": 7,
   "metadata": {
    "colab": {
     "base_uri": "https://localhost:8080/",
     "height": 564
    },
    "colab_type": "code",
    "id": "nZIPY1v2KHK9",
    "outputId": "5e35b152-e77d-49aa-a23a-5fd7ce705524"
   },
   "outputs": [
    {
     "data": {
      "text/html": [
       "<div>\n",
       "<style scoped>\n",
       "    .dataframe tbody tr th:only-of-type {\n",
       "        vertical-align: middle;\n",
       "    }\n",
       "\n",
       "    .dataframe tbody tr th {\n",
       "        vertical-align: top;\n",
       "    }\n",
       "\n",
       "    .dataframe thead th {\n",
       "        text-align: right;\n",
       "    }\n",
       "</style>\n",
       "<table border=\"1\" class=\"dataframe\">\n",
       "  <thead>\n",
       "    <tr style=\"text-align: right;\">\n",
       "      <th></th>\n",
       "      <th>App</th>\n",
       "      <th>Category</th>\n",
       "      <th>Rating</th>\n",
       "      <th>Reviews</th>\n",
       "      <th>Size</th>\n",
       "      <th>Installs</th>\n",
       "      <th>Type</th>\n",
       "      <th>Price</th>\n",
       "      <th>Content Rating</th>\n",
       "      <th>Genres</th>\n",
       "      <th>Last Updated</th>\n",
       "      <th>Current Ver</th>\n",
       "      <th>Android Ver</th>\n",
       "    </tr>\n",
       "  </thead>\n",
       "  <tbody>\n",
       "    <tr>\n",
       "      <td>0</td>\n",
       "      <td>Photo Editor &amp; Candy Camera &amp; Grid &amp; ScrapBook</td>\n",
       "      <td>ART_AND_DESIGN</td>\n",
       "      <td>4.1</td>\n",
       "      <td>159</td>\n",
       "      <td>19M</td>\n",
       "      <td>10,000+</td>\n",
       "      <td>Free</td>\n",
       "      <td>0</td>\n",
       "      <td>Everyone</td>\n",
       "      <td>Art &amp; Design</td>\n",
       "      <td>January 7, 2018</td>\n",
       "      <td>1.0.0</td>\n",
       "      <td>4.0.3 and up</td>\n",
       "    </tr>\n",
       "    <tr>\n",
       "      <td>1</td>\n",
       "      <td>Coloring book moana</td>\n",
       "      <td>ART_AND_DESIGN</td>\n",
       "      <td>3.9</td>\n",
       "      <td>967</td>\n",
       "      <td>14M</td>\n",
       "      <td>500,000+</td>\n",
       "      <td>Free</td>\n",
       "      <td>0</td>\n",
       "      <td>Everyone</td>\n",
       "      <td>Art &amp; Design;Pretend Play</td>\n",
       "      <td>January 15, 2018</td>\n",
       "      <td>2.0.0</td>\n",
       "      <td>4.0.3 and up</td>\n",
       "    </tr>\n",
       "    <tr>\n",
       "      <td>2</td>\n",
       "      <td>U Launcher Lite – FREE Live Cool Themes, Hide ...</td>\n",
       "      <td>ART_AND_DESIGN</td>\n",
       "      <td>4.7</td>\n",
       "      <td>87510</td>\n",
       "      <td>8.7M</td>\n",
       "      <td>5,000,000+</td>\n",
       "      <td>Free</td>\n",
       "      <td>0</td>\n",
       "      <td>Everyone</td>\n",
       "      <td>Art &amp; Design</td>\n",
       "      <td>August 1, 2018</td>\n",
       "      <td>1.2.4</td>\n",
       "      <td>4.0.3 and up</td>\n",
       "    </tr>\n",
       "    <tr>\n",
       "      <td>3</td>\n",
       "      <td>Sketch - Draw &amp; Paint</td>\n",
       "      <td>ART_AND_DESIGN</td>\n",
       "      <td>4.5</td>\n",
       "      <td>215644</td>\n",
       "      <td>25M</td>\n",
       "      <td>50,000,000+</td>\n",
       "      <td>Free</td>\n",
       "      <td>0</td>\n",
       "      <td>Teen</td>\n",
       "      <td>Art &amp; Design</td>\n",
       "      <td>June 8, 2018</td>\n",
       "      <td>Varies with device</td>\n",
       "      <td>4.2 and up</td>\n",
       "    </tr>\n",
       "    <tr>\n",
       "      <td>4</td>\n",
       "      <td>Pixel Draw - Number Art Coloring Book</td>\n",
       "      <td>ART_AND_DESIGN</td>\n",
       "      <td>4.3</td>\n",
       "      <td>967</td>\n",
       "      <td>2.8M</td>\n",
       "      <td>100,000+</td>\n",
       "      <td>Free</td>\n",
       "      <td>0</td>\n",
       "      <td>Everyone</td>\n",
       "      <td>Art &amp; Design;Creativity</td>\n",
       "      <td>June 20, 2018</td>\n",
       "      <td>1.1</td>\n",
       "      <td>4.4 and up</td>\n",
       "    </tr>\n",
       "  </tbody>\n",
       "</table>\n",
       "</div>"
      ],
      "text/plain": [
       "                                                 App        Category  Rating  \\\n",
       "0     Photo Editor & Candy Camera & Grid & ScrapBook  ART_AND_DESIGN     4.1   \n",
       "1                                Coloring book moana  ART_AND_DESIGN     3.9   \n",
       "2  U Launcher Lite – FREE Live Cool Themes, Hide ...  ART_AND_DESIGN     4.7   \n",
       "3                              Sketch - Draw & Paint  ART_AND_DESIGN     4.5   \n",
       "4              Pixel Draw - Number Art Coloring Book  ART_AND_DESIGN     4.3   \n",
       "\n",
       "  Reviews  Size     Installs  Type Price Content Rating  \\\n",
       "0     159   19M      10,000+  Free     0       Everyone   \n",
       "1     967   14M     500,000+  Free     0       Everyone   \n",
       "2   87510  8.7M   5,000,000+  Free     0       Everyone   \n",
       "3  215644   25M  50,000,000+  Free     0           Teen   \n",
       "4     967  2.8M     100,000+  Free     0       Everyone   \n",
       "\n",
       "                      Genres      Last Updated         Current Ver  \\\n",
       "0               Art & Design   January 7, 2018               1.0.0   \n",
       "1  Art & Design;Pretend Play  January 15, 2018               2.0.0   \n",
       "2               Art & Design    August 1, 2018               1.2.4   \n",
       "3               Art & Design      June 8, 2018  Varies with device   \n",
       "4    Art & Design;Creativity     June 20, 2018                 1.1   \n",
       "\n",
       "    Android Ver  \n",
       "0  4.0.3 and up  \n",
       "1  4.0.3 and up  \n",
       "2  4.0.3 and up  \n",
       "3    4.2 and up  \n",
       "4    4.4 and up  "
      ]
     },
     "execution_count": 7,
     "metadata": {},
     "output_type": "execute_result"
    }
   ],
   "source": [
    "data.head()\n"
   ]
  },
  {
   "cell_type": "code",
   "execution_count": 8,
   "metadata": {
    "colab": {
     "base_uri": "https://localhost:8080/",
     "height": 323
    },
    "colab_type": "code",
    "id": "GkgkW-n2Lm_q",
    "outputId": "d859d889-3892-4192-fa5f-020f46e7bf30"
   },
   "outputs": [
    {
     "name": "stdout",
     "output_type": "stream",
     "text": [
      "<class 'pandas.core.frame.DataFrame'>\n",
      "RangeIndex: 10841 entries, 0 to 10840\n",
      "Data columns (total 13 columns):\n",
      "App               10841 non-null object\n",
      "Category          10841 non-null object\n",
      "Rating            9367 non-null float64\n",
      "Reviews           10841 non-null object\n",
      "Size              10841 non-null object\n",
      "Installs          10841 non-null object\n",
      "Type              10840 non-null object\n",
      "Price             10841 non-null object\n",
      "Content Rating    10840 non-null object\n",
      "Genres            10841 non-null object\n",
      "Last Updated      10841 non-null object\n",
      "Current Ver       10833 non-null object\n",
      "Android Ver       10838 non-null object\n",
      "dtypes: float64(1), object(12)\n",
      "memory usage: 1.1+ MB\n"
     ]
    }
   ],
   "source": [
    "data.info()"
   ]
  },
  {
   "cell_type": "code",
   "execution_count": 15,
   "metadata": {
    "colab": {},
    "colab_type": "code",
    "id": "037cCW1G3xtn"
   },
   "outputs": [],
   "source": [
    "#2.\tCheck for null values in the data. Get the number of null values for each column."
   ]
  },
  {
   "cell_type": "code",
   "execution_count": 16,
   "metadata": {
    "colab": {
     "base_uri": "https://localhost:8080/",
     "height": 255
    },
    "colab_type": "code",
    "id": "pNsFc5ihL-My",
    "outputId": "d958aa2a-da08-4646-994b-768c2af7d8f6"
   },
   "outputs": [
    {
     "data": {
      "text/plain": [
       "App                  0\n",
       "Category             0\n",
       "Rating            1474\n",
       "Reviews              0\n",
       "Size                 0\n",
       "Installs             0\n",
       "Type                 1\n",
       "Price                0\n",
       "Content Rating       1\n",
       "Genres               0\n",
       "Last Updated         0\n",
       "Current Ver          8\n",
       "Android Ver          3\n",
       "dtype: int64"
      ]
     },
     "execution_count": 16,
     "metadata": {},
     "output_type": "execute_result"
    }
   ],
   "source": [
    "data.isna().sum(axis=0)"
   ]
  },
  {
   "cell_type": "code",
   "execution_count": 17,
   "metadata": {
    "colab": {},
    "colab_type": "code",
    "id": "ALDq7gcj39ry"
   },
   "outputs": [],
   "source": [
    "#3.\tDrop records with nulls in any of the columns. "
   ]
  },
  {
   "cell_type": "code",
   "execution_count": 18,
   "metadata": {
    "colab": {},
    "colab_type": "code",
    "id": "5vGu0HzBUAAf"
   },
   "outputs": [],
   "source": [
    "data1 = data.dropna()"
   ]
  },
  {
   "cell_type": "code",
   "execution_count": 19,
   "metadata": {
    "colab": {
     "base_uri": "https://localhost:8080/",
     "height": 255
    },
    "colab_type": "code",
    "id": "eM_OFbO2USQt",
    "outputId": "2999dfd5-7364-4ede-a16d-92f514beb9e1"
   },
   "outputs": [
    {
     "data": {
      "text/plain": [
       "App               0\n",
       "Category          0\n",
       "Rating            0\n",
       "Reviews           0\n",
       "Size              0\n",
       "Installs          0\n",
       "Type              0\n",
       "Price             0\n",
       "Content Rating    0\n",
       "Genres            0\n",
       "Last Updated      0\n",
       "Current Ver       0\n",
       "Android Ver       0\n",
       "dtype: int64"
      ]
     },
     "execution_count": 19,
     "metadata": {},
     "output_type": "execute_result"
    }
   ],
   "source": [
    "data1.isna().sum(axis=0)"
   ]
  },
  {
   "cell_type": "code",
   "execution_count": 20,
   "metadata": {
    "colab": {
     "base_uri": "https://localhost:8080/",
     "height": 323
    },
    "colab_type": "code",
    "id": "isgaruuiVcoW",
    "outputId": "60a084de-b9df-4861-a69b-94705f2ed4cd"
   },
   "outputs": [
    {
     "name": "stdout",
     "output_type": "stream",
     "text": [
      "<class 'pandas.core.frame.DataFrame'>\n",
      "Int64Index: 9360 entries, 0 to 10840\n",
      "Data columns (total 13 columns):\n",
      "App               9360 non-null object\n",
      "Category          9360 non-null object\n",
      "Rating            9360 non-null float64\n",
      "Reviews           9360 non-null object\n",
      "Size              9360 non-null object\n",
      "Installs          9360 non-null object\n",
      "Type              9360 non-null object\n",
      "Price             9360 non-null object\n",
      "Content Rating    9360 non-null object\n",
      "Genres            9360 non-null object\n",
      "Last Updated      9360 non-null object\n",
      "Current Ver       9360 non-null object\n",
      "Android Ver       9360 non-null object\n",
      "dtypes: float64(1), object(12)\n",
      "memory usage: 1023.8+ KB\n"
     ]
    }
   ],
   "source": [
    "data1.info()"
   ]
  },
  {
   "cell_type": "code",
   "execution_count": 21,
   "metadata": {
    "colab": {},
    "colab_type": "code",
    "id": "gphiOUseXfEI"
   },
   "outputs": [],
   "source": [
    "#4.\tVariables seem to have incorrect type and inconsistent formatting. You need to fix them: \n",
    "#4.1.\tSize column has sizes in Kb as well as Mb. To analyze, you’ll need to convert these to numeric.\n",
    "#4.1.2.\tMultiply the value by 1,000, if size is mentioned in Mb"
   ]
  },
  {
   "cell_type": "code",
   "execution_count": 22,
   "metadata": {
    "colab": {
     "base_uri": "https://localhost:8080/",
     "height": 139
    },
    "colab_type": "code",
    "id": "Ad5nO6xmg0Dm",
    "outputId": "e85206ba-b70c-4bc7-e956-26959b823da4"
   },
   "outputs": [
    {
     "name": "stderr",
     "output_type": "stream",
     "text": [
      "C:\\Users\\Amar\\Anaconda3\\lib\\site-packages\\ipykernel_launcher.py:1: SettingWithCopyWarning: \n",
      "A value is trying to be set on a copy of a slice from a DataFrame.\n",
      "Try using .loc[row_indexer,col_indexer] = value instead\n",
      "\n",
      "See the caveats in the documentation: http://pandas.pydata.org/pandas-docs/stable/user_guide/indexing.html#returning-a-view-versus-a-copy\n",
      "  \"\"\"Entry point for launching an IPython kernel.\n"
     ]
    }
   ],
   "source": [
    "data1['Size'] = data1['Size'].str.replace('M', '000', regex = True)"
   ]
  },
  {
   "cell_type": "code",
   "execution_count": 23,
   "metadata": {
    "colab": {
     "base_uri": "https://localhost:8080/",
     "height": 139
    },
    "colab_type": "code",
    "id": "zb7hWwqbbsA8",
    "outputId": "7f6f10e3-6b92-4a73-b3bf-76bbefdbdc26"
   },
   "outputs": [
    {
     "name": "stderr",
     "output_type": "stream",
     "text": [
      "C:\\Users\\Amar\\Anaconda3\\lib\\site-packages\\ipykernel_launcher.py:1: SettingWithCopyWarning: \n",
      "A value is trying to be set on a copy of a slice from a DataFrame.\n",
      "Try using .loc[row_indexer,col_indexer] = value instead\n",
      "\n",
      "See the caveats in the documentation: http://pandas.pydata.org/pandas-docs/stable/user_guide/indexing.html#returning-a-view-versus-a-copy\n",
      "  \"\"\"Entry point for launching an IPython kernel.\n"
     ]
    }
   ],
   "source": [
    "data1['Size'] = data1['Size'].str.replace('.', '', regex = True)"
   ]
  },
  {
   "cell_type": "code",
   "execution_count": 24,
   "metadata": {
    "colab": {
     "base_uri": "https://localhost:8080/",
     "height": 139
    },
    "colab_type": "code",
    "id": "00ZGpIUvc3p4",
    "outputId": "bba5148e-89bc-46f8-b65b-531ae32fb1c7"
   },
   "outputs": [
    {
     "name": "stderr",
     "output_type": "stream",
     "text": [
      "C:\\Users\\Amar\\Anaconda3\\lib\\site-packages\\ipykernel_launcher.py:1: SettingWithCopyWarning: \n",
      "A value is trying to be set on a copy of a slice from a DataFrame.\n",
      "Try using .loc[row_indexer,col_indexer] = value instead\n",
      "\n",
      "See the caveats in the documentation: http://pandas.pydata.org/pandas-docs/stable/user_guide/indexing.html#returning-a-view-versus-a-copy\n",
      "  \"\"\"Entry point for launching an IPython kernel.\n"
     ]
    }
   ],
   "source": [
    "data1['Size'] = data1['Size'].str.replace('k', '', regex = True)"
   ]
  },
  {
   "cell_type": "code",
   "execution_count": 25,
   "metadata": {
    "colab": {
     "base_uri": "https://localhost:8080/",
     "height": 221
    },
    "colab_type": "code",
    "id": "pVfzfxcGq2Rj",
    "outputId": "0e308810-d6f1-47ce-f247-18fb16753b9e"
   },
   "outputs": [
    {
     "data": {
      "text/plain": [
       "0                     19000\n",
       "1                     14000\n",
       "2                     87000\n",
       "3                     25000\n",
       "4                     28000\n",
       "                ...        \n",
       "10834                 26000\n",
       "10836                 53000\n",
       "10837                 36000\n",
       "10839    Varies with device\n",
       "10840                 19000\n",
       "Name: Size, Length: 9360, dtype: object"
      ]
     },
     "execution_count": 25,
     "metadata": {},
     "output_type": "execute_result"
    }
   ],
   "source": [
    "data1['Size']"
   ]
  },
  {
   "cell_type": "code",
   "execution_count": 26,
   "metadata": {
    "colab": {
     "base_uri": "https://localhost:8080/",
     "height": 255
    },
    "colab_type": "code",
    "id": "AATsD_zBq5xw",
    "outputId": "052fb001-f7b1-492d-cdca-648d0f3acb38"
   },
   "outputs": [
    {
     "data": {
      "text/plain": [
       "App                object\n",
       "Category           object\n",
       "Rating            float64\n",
       "Reviews            object\n",
       "Size               object\n",
       "Installs           object\n",
       "Type               object\n",
       "Price              object\n",
       "Content Rating     object\n",
       "Genres             object\n",
       "Last Updated       object\n",
       "Current Ver        object\n",
       "Android Ver        object\n",
       "dtype: object"
      ]
     },
     "execution_count": 26,
     "metadata": {},
     "output_type": "execute_result"
    }
   ],
   "source": [
    "data1.dtypes"
   ]
  },
  {
   "cell_type": "code",
   "execution_count": 27,
   "metadata": {
    "colab": {},
    "colab_type": "code",
    "id": "K1IfSHbn4opa"
   },
   "outputs": [],
   "source": [
    "#4.1.1.\tExtract the numeric value from the column"
   ]
  },
  {
   "cell_type": "code",
   "execution_count": 28,
   "metadata": {
    "colab": {
     "base_uri": "https://localhost:8080/",
     "height": 255
    },
    "colab_type": "code",
    "id": "1dQmghocGe6m",
    "outputId": "1b4dafa7-357a-4899-f8dc-36b1c5b51f69"
   },
   "outputs": [
    {
     "data": {
      "text/plain": [
       "App               0\n",
       "Category          0\n",
       "Rating            0\n",
       "Reviews           0\n",
       "Size              0\n",
       "Installs          0\n",
       "Type              0\n",
       "Price             0\n",
       "Content Rating    0\n",
       "Genres            0\n",
       "Last Updated      0\n",
       "Current Ver       0\n",
       "Android Ver       0\n",
       "dtype: int64"
      ]
     },
     "execution_count": 28,
     "metadata": {},
     "output_type": "execute_result"
    }
   ],
   "source": [
    "data1.isna().sum(axis=0)"
   ]
  },
  {
   "cell_type": "code",
   "execution_count": 29,
   "metadata": {
    "colab": {
     "base_uri": "https://localhost:8080/",
     "height": 139
    },
    "colab_type": "code",
    "id": "lZd_zldmGexj",
    "outputId": "5458c07e-3e78-427e-895a-93bf22e90f3f"
   },
   "outputs": [
    {
     "name": "stderr",
     "output_type": "stream",
     "text": [
      "C:\\Users\\Amar\\Anaconda3\\lib\\site-packages\\ipykernel_launcher.py:1: SettingWithCopyWarning: \n",
      "A value is trying to be set on a copy of a slice from a DataFrame.\n",
      "Try using .loc[row_indexer,col_indexer] = value instead\n",
      "\n",
      "See the caveats in the documentation: http://pandas.pydata.org/pandas-docs/stable/user_guide/indexing.html#returning-a-view-versus-a-copy\n",
      "  \"\"\"Entry point for launching an IPython kernel.\n"
     ]
    }
   ],
   "source": [
    "data1['Size'] = data1['Size'][data1['Size'].str.isdigit() == True].copy()"
   ]
  },
  {
   "cell_type": "code",
   "execution_count": 30,
   "metadata": {
    "colab": {},
    "colab_type": "code",
    "id": "JkcfivtQ-Q4C"
   },
   "outputs": [],
   "source": [
    "data2 = data1.dropna()"
   ]
  },
  {
   "cell_type": "code",
   "execution_count": 31,
   "metadata": {
    "colab": {
     "base_uri": "https://localhost:8080/",
     "height": 323
    },
    "colab_type": "code",
    "id": "LmMSqk1zHBgM",
    "outputId": "ebcb5dd8-19d5-4d5d-b8f2-e71593aef9e1"
   },
   "outputs": [
    {
     "name": "stdout",
     "output_type": "stream",
     "text": [
      "<class 'pandas.core.frame.DataFrame'>\n",
      "Int64Index: 7723 entries, 0 to 10840\n",
      "Data columns (total 13 columns):\n",
      "App               7723 non-null object\n",
      "Category          7723 non-null object\n",
      "Rating            7723 non-null float64\n",
      "Reviews           7723 non-null object\n",
      "Size              7723 non-null object\n",
      "Installs          7723 non-null object\n",
      "Type              7723 non-null object\n",
      "Price             7723 non-null object\n",
      "Content Rating    7723 non-null object\n",
      "Genres            7723 non-null object\n",
      "Last Updated      7723 non-null object\n",
      "Current Ver       7723 non-null object\n",
      "Android Ver       7723 non-null object\n",
      "dtypes: float64(1), object(12)\n",
      "memory usage: 844.7+ KB\n"
     ]
    }
   ],
   "source": [
    "data2.info()"
   ]
  },
  {
   "cell_type": "code",
   "execution_count": 32,
   "metadata": {
    "colab": {
     "base_uri": "https://localhost:8080/",
     "height": 966
    },
    "colab_type": "code",
    "id": "qIkZCM7OHK-I",
    "outputId": "b2a818a0-5d45-431c-c3ae-1e51c45c151a"
   },
   "outputs": [
    {
     "data": {
      "text/html": [
       "<div>\n",
       "<style scoped>\n",
       "    .dataframe tbody tr th:only-of-type {\n",
       "        vertical-align: middle;\n",
       "    }\n",
       "\n",
       "    .dataframe tbody tr th {\n",
       "        vertical-align: top;\n",
       "    }\n",
       "\n",
       "    .dataframe thead th {\n",
       "        text-align: right;\n",
       "    }\n",
       "</style>\n",
       "<table border=\"1\" class=\"dataframe\">\n",
       "  <thead>\n",
       "    <tr style=\"text-align: right;\">\n",
       "      <th></th>\n",
       "      <th>App</th>\n",
       "      <th>Category</th>\n",
       "      <th>Rating</th>\n",
       "      <th>Reviews</th>\n",
       "      <th>Size</th>\n",
       "      <th>Installs</th>\n",
       "      <th>Type</th>\n",
       "      <th>Price</th>\n",
       "      <th>Content Rating</th>\n",
       "      <th>Genres</th>\n",
       "      <th>Last Updated</th>\n",
       "      <th>Current Ver</th>\n",
       "      <th>Android Ver</th>\n",
       "    </tr>\n",
       "  </thead>\n",
       "  <tbody>\n",
       "    <tr>\n",
       "      <td>0</td>\n",
       "      <td>Photo Editor &amp; Candy Camera &amp; Grid &amp; ScrapBook</td>\n",
       "      <td>ART_AND_DESIGN</td>\n",
       "      <td>4.1</td>\n",
       "      <td>159</td>\n",
       "      <td>19000</td>\n",
       "      <td>10,000+</td>\n",
       "      <td>Free</td>\n",
       "      <td>0</td>\n",
       "      <td>Everyone</td>\n",
       "      <td>Art &amp; Design</td>\n",
       "      <td>January 7, 2018</td>\n",
       "      <td>1.0.0</td>\n",
       "      <td>4.0.3 and up</td>\n",
       "    </tr>\n",
       "    <tr>\n",
       "      <td>1</td>\n",
       "      <td>Coloring book moana</td>\n",
       "      <td>ART_AND_DESIGN</td>\n",
       "      <td>3.9</td>\n",
       "      <td>967</td>\n",
       "      <td>14000</td>\n",
       "      <td>500,000+</td>\n",
       "      <td>Free</td>\n",
       "      <td>0</td>\n",
       "      <td>Everyone</td>\n",
       "      <td>Art &amp; Design;Pretend Play</td>\n",
       "      <td>January 15, 2018</td>\n",
       "      <td>2.0.0</td>\n",
       "      <td>4.0.3 and up</td>\n",
       "    </tr>\n",
       "    <tr>\n",
       "      <td>2</td>\n",
       "      <td>U Launcher Lite – FREE Live Cool Themes, Hide ...</td>\n",
       "      <td>ART_AND_DESIGN</td>\n",
       "      <td>4.7</td>\n",
       "      <td>87510</td>\n",
       "      <td>87000</td>\n",
       "      <td>5,000,000+</td>\n",
       "      <td>Free</td>\n",
       "      <td>0</td>\n",
       "      <td>Everyone</td>\n",
       "      <td>Art &amp; Design</td>\n",
       "      <td>August 1, 2018</td>\n",
       "      <td>1.2.4</td>\n",
       "      <td>4.0.3 and up</td>\n",
       "    </tr>\n",
       "    <tr>\n",
       "      <td>3</td>\n",
       "      <td>Sketch - Draw &amp; Paint</td>\n",
       "      <td>ART_AND_DESIGN</td>\n",
       "      <td>4.5</td>\n",
       "      <td>215644</td>\n",
       "      <td>25000</td>\n",
       "      <td>50,000,000+</td>\n",
       "      <td>Free</td>\n",
       "      <td>0</td>\n",
       "      <td>Teen</td>\n",
       "      <td>Art &amp; Design</td>\n",
       "      <td>June 8, 2018</td>\n",
       "      <td>Varies with device</td>\n",
       "      <td>4.2 and up</td>\n",
       "    </tr>\n",
       "    <tr>\n",
       "      <td>4</td>\n",
       "      <td>Pixel Draw - Number Art Coloring Book</td>\n",
       "      <td>ART_AND_DESIGN</td>\n",
       "      <td>4.3</td>\n",
       "      <td>967</td>\n",
       "      <td>28000</td>\n",
       "      <td>100,000+</td>\n",
       "      <td>Free</td>\n",
       "      <td>0</td>\n",
       "      <td>Everyone</td>\n",
       "      <td>Art &amp; Design;Creativity</td>\n",
       "      <td>June 20, 2018</td>\n",
       "      <td>1.1</td>\n",
       "      <td>4.4 and up</td>\n",
       "    </tr>\n",
       "    <tr>\n",
       "      <td>...</td>\n",
       "      <td>...</td>\n",
       "      <td>...</td>\n",
       "      <td>...</td>\n",
       "      <td>...</td>\n",
       "      <td>...</td>\n",
       "      <td>...</td>\n",
       "      <td>...</td>\n",
       "      <td>...</td>\n",
       "      <td>...</td>\n",
       "      <td>...</td>\n",
       "      <td>...</td>\n",
       "      <td>...</td>\n",
       "      <td>...</td>\n",
       "    </tr>\n",
       "    <tr>\n",
       "      <td>10833</td>\n",
       "      <td>Chemin (fr)</td>\n",
       "      <td>BOOKS_AND_REFERENCE</td>\n",
       "      <td>4.8</td>\n",
       "      <td>44</td>\n",
       "      <td>619</td>\n",
       "      <td>1,000+</td>\n",
       "      <td>Free</td>\n",
       "      <td>0</td>\n",
       "      <td>Everyone</td>\n",
       "      <td>Books &amp; Reference</td>\n",
       "      <td>March 23, 2014</td>\n",
       "      <td>0.8</td>\n",
       "      <td>2.2 and up</td>\n",
       "    </tr>\n",
       "    <tr>\n",
       "      <td>10834</td>\n",
       "      <td>FR Calculator</td>\n",
       "      <td>FAMILY</td>\n",
       "      <td>4.0</td>\n",
       "      <td>7</td>\n",
       "      <td>26000</td>\n",
       "      <td>500+</td>\n",
       "      <td>Free</td>\n",
       "      <td>0</td>\n",
       "      <td>Everyone</td>\n",
       "      <td>Education</td>\n",
       "      <td>June 18, 2017</td>\n",
       "      <td>1.0.0</td>\n",
       "      <td>4.1 and up</td>\n",
       "    </tr>\n",
       "    <tr>\n",
       "      <td>10836</td>\n",
       "      <td>Sya9a Maroc - FR</td>\n",
       "      <td>FAMILY</td>\n",
       "      <td>4.5</td>\n",
       "      <td>38</td>\n",
       "      <td>53000</td>\n",
       "      <td>5,000+</td>\n",
       "      <td>Free</td>\n",
       "      <td>0</td>\n",
       "      <td>Everyone</td>\n",
       "      <td>Education</td>\n",
       "      <td>July 25, 2017</td>\n",
       "      <td>1.48</td>\n",
       "      <td>4.1 and up</td>\n",
       "    </tr>\n",
       "    <tr>\n",
       "      <td>10837</td>\n",
       "      <td>Fr. Mike Schmitz Audio Teachings</td>\n",
       "      <td>FAMILY</td>\n",
       "      <td>5.0</td>\n",
       "      <td>4</td>\n",
       "      <td>36000</td>\n",
       "      <td>100+</td>\n",
       "      <td>Free</td>\n",
       "      <td>0</td>\n",
       "      <td>Everyone</td>\n",
       "      <td>Education</td>\n",
       "      <td>July 6, 2018</td>\n",
       "      <td>1.0</td>\n",
       "      <td>4.1 and up</td>\n",
       "    </tr>\n",
       "    <tr>\n",
       "      <td>10840</td>\n",
       "      <td>iHoroscope - 2018 Daily Horoscope &amp; Astrology</td>\n",
       "      <td>LIFESTYLE</td>\n",
       "      <td>4.5</td>\n",
       "      <td>398307</td>\n",
       "      <td>19000</td>\n",
       "      <td>10,000,000+</td>\n",
       "      <td>Free</td>\n",
       "      <td>0</td>\n",
       "      <td>Everyone</td>\n",
       "      <td>Lifestyle</td>\n",
       "      <td>July 25, 2018</td>\n",
       "      <td>Varies with device</td>\n",
       "      <td>Varies with device</td>\n",
       "    </tr>\n",
       "  </tbody>\n",
       "</table>\n",
       "<p>7723 rows × 13 columns</p>\n",
       "</div>"
      ],
      "text/plain": [
       "                                                     App             Category  \\\n",
       "0         Photo Editor & Candy Camera & Grid & ScrapBook       ART_AND_DESIGN   \n",
       "1                                    Coloring book moana       ART_AND_DESIGN   \n",
       "2      U Launcher Lite – FREE Live Cool Themes, Hide ...       ART_AND_DESIGN   \n",
       "3                                  Sketch - Draw & Paint       ART_AND_DESIGN   \n",
       "4                  Pixel Draw - Number Art Coloring Book       ART_AND_DESIGN   \n",
       "...                                                  ...                  ...   \n",
       "10833                                        Chemin (fr)  BOOKS_AND_REFERENCE   \n",
       "10834                                      FR Calculator               FAMILY   \n",
       "10836                                   Sya9a Maroc - FR               FAMILY   \n",
       "10837                   Fr. Mike Schmitz Audio Teachings               FAMILY   \n",
       "10840      iHoroscope - 2018 Daily Horoscope & Astrology            LIFESTYLE   \n",
       "\n",
       "       Rating Reviews   Size     Installs  Type Price Content Rating  \\\n",
       "0         4.1     159  19000      10,000+  Free     0       Everyone   \n",
       "1         3.9     967  14000     500,000+  Free     0       Everyone   \n",
       "2         4.7   87510  87000   5,000,000+  Free     0       Everyone   \n",
       "3         4.5  215644  25000  50,000,000+  Free     0           Teen   \n",
       "4         4.3     967  28000     100,000+  Free     0       Everyone   \n",
       "...       ...     ...    ...          ...   ...   ...            ...   \n",
       "10833     4.8      44    619       1,000+  Free     0       Everyone   \n",
       "10834     4.0       7  26000         500+  Free     0       Everyone   \n",
       "10836     4.5      38  53000       5,000+  Free     0       Everyone   \n",
       "10837     5.0       4  36000         100+  Free     0       Everyone   \n",
       "10840     4.5  398307  19000  10,000,000+  Free     0       Everyone   \n",
       "\n",
       "                          Genres      Last Updated         Current Ver  \\\n",
       "0                   Art & Design   January 7, 2018               1.0.0   \n",
       "1      Art & Design;Pretend Play  January 15, 2018               2.0.0   \n",
       "2                   Art & Design    August 1, 2018               1.2.4   \n",
       "3                   Art & Design      June 8, 2018  Varies with device   \n",
       "4        Art & Design;Creativity     June 20, 2018                 1.1   \n",
       "...                          ...               ...                 ...   \n",
       "10833          Books & Reference    March 23, 2014                 0.8   \n",
       "10834                  Education     June 18, 2017               1.0.0   \n",
       "10836                  Education     July 25, 2017                1.48   \n",
       "10837                  Education      July 6, 2018                 1.0   \n",
       "10840                  Lifestyle     July 25, 2018  Varies with device   \n",
       "\n",
       "              Android Ver  \n",
       "0            4.0.3 and up  \n",
       "1            4.0.3 and up  \n",
       "2            4.0.3 and up  \n",
       "3              4.2 and up  \n",
       "4              4.4 and up  \n",
       "...                   ...  \n",
       "10833          2.2 and up  \n",
       "10834          4.1 and up  \n",
       "10836          4.1 and up  \n",
       "10837          4.1 and up  \n",
       "10840  Varies with device  \n",
       "\n",
       "[7723 rows x 13 columns]"
      ]
     },
     "execution_count": 32,
     "metadata": {},
     "output_type": "execute_result"
    }
   ],
   "source": [
    "data2"
   ]
  },
  {
   "cell_type": "code",
   "execution_count": 33,
   "metadata": {
    "colab": {},
    "colab_type": "code",
    "id": "baxObfPKESHD"
   },
   "outputs": [],
   "source": [
    "#4.2.\tReviews is a numeric field that is loaded as a string field. Convert it to numeric (int/float)."
   ]
  },
  {
   "cell_type": "code",
   "execution_count": 34,
   "metadata": {
    "colab": {
     "base_uri": "https://localhost:8080/",
     "height": 323
    },
    "colab_type": "code",
    "id": "UYLRATXsHmMM",
    "outputId": "2c8f0e92-4bd4-4797-d96d-428426e15fbd"
   },
   "outputs": [
    {
     "name": "stdout",
     "output_type": "stream",
     "text": [
      "<class 'pandas.core.frame.DataFrame'>\n",
      "Int64Index: 7723 entries, 0 to 10840\n",
      "Data columns (total 13 columns):\n",
      "App               7723 non-null object\n",
      "Category          7723 non-null object\n",
      "Rating            7723 non-null float64\n",
      "Reviews           7723 non-null object\n",
      "Size              7723 non-null object\n",
      "Installs          7723 non-null object\n",
      "Type              7723 non-null object\n",
      "Price             7723 non-null object\n",
      "Content Rating    7723 non-null object\n",
      "Genres            7723 non-null object\n",
      "Last Updated      7723 non-null object\n",
      "Current Ver       7723 non-null object\n",
      "Android Ver       7723 non-null object\n",
      "dtypes: float64(1), object(12)\n",
      "memory usage: 844.7+ KB\n"
     ]
    }
   ],
   "source": [
    "data2.info()"
   ]
  },
  {
   "cell_type": "code",
   "execution_count": 35,
   "metadata": {
    "colab": {
     "base_uri": "https://localhost:8080/",
     "height": 139
    },
    "colab_type": "code",
    "id": "nO6vVJxuHwDX",
    "outputId": "866b9bc4-c9cd-4e2d-f08d-b7cbd2de70a3"
   },
   "outputs": [
    {
     "name": "stderr",
     "output_type": "stream",
     "text": [
      "C:\\Users\\Amar\\Anaconda3\\lib\\site-packages\\ipykernel_launcher.py:1: SettingWithCopyWarning: \n",
      "A value is trying to be set on a copy of a slice from a DataFrame.\n",
      "Try using .loc[row_indexer,col_indexer] = value instead\n",
      "\n",
      "See the caveats in the documentation: http://pandas.pydata.org/pandas-docs/stable/user_guide/indexing.html#returning-a-view-versus-a-copy\n",
      "  \"\"\"Entry point for launching an IPython kernel.\n"
     ]
    }
   ],
   "source": [
    "data2['Reviews'] = data2['Reviews'].astype(int)"
   ]
  },
  {
   "cell_type": "code",
   "execution_count": 36,
   "metadata": {
    "colab": {
     "base_uri": "https://localhost:8080/",
     "height": 323
    },
    "colab_type": "code",
    "id": "BGc7pyVTIDla",
    "outputId": "e815a285-ca6e-4d9d-da4f-263487b64536"
   },
   "outputs": [
    {
     "name": "stdout",
     "output_type": "stream",
     "text": [
      "<class 'pandas.core.frame.DataFrame'>\n",
      "Int64Index: 7723 entries, 0 to 10840\n",
      "Data columns (total 13 columns):\n",
      "App               7723 non-null object\n",
      "Category          7723 non-null object\n",
      "Rating            7723 non-null float64\n",
      "Reviews           7723 non-null int32\n",
      "Size              7723 non-null object\n",
      "Installs          7723 non-null object\n",
      "Type              7723 non-null object\n",
      "Price             7723 non-null object\n",
      "Content Rating    7723 non-null object\n",
      "Genres            7723 non-null object\n",
      "Last Updated      7723 non-null object\n",
      "Current Ver       7723 non-null object\n",
      "Android Ver       7723 non-null object\n",
      "dtypes: float64(1), int32(1), object(11)\n",
      "memory usage: 814.5+ KB\n"
     ]
    }
   ],
   "source": [
    "data2.info()"
   ]
  },
  {
   "cell_type": "code",
   "execution_count": 37,
   "metadata": {
    "colab": {},
    "colab_type": "code",
    "id": "un5D5Zci5ZZB"
   },
   "outputs": [],
   "source": [
    "#4.3.\tInstalls field is currently stored as string and has values like 1,000,000+. \n",
    "#4.3.1.\tTreat 1,000,000+ as 1,000,000\n",
    "#4.3.2.\tremove ‘+’, ‘,’ from the field, convert it to integer"
   ]
  },
  {
   "cell_type": "code",
   "execution_count": 38,
   "metadata": {
    "colab": {
     "base_uri": "https://localhost:8080/",
     "height": 139
    },
    "colab_type": "code",
    "id": "EYnp2YuLt1Sg",
    "outputId": "45650f10-65e0-46a6-dacd-d49c340520af"
   },
   "outputs": [
    {
     "name": "stderr",
     "output_type": "stream",
     "text": [
      "C:\\Users\\Amar\\Anaconda3\\lib\\site-packages\\ipykernel_launcher.py:1: SettingWithCopyWarning: \n",
      "A value is trying to be set on a copy of a slice from a DataFrame.\n",
      "Try using .loc[row_indexer,col_indexer] = value instead\n",
      "\n",
      "See the caveats in the documentation: http://pandas.pydata.org/pandas-docs/stable/user_guide/indexing.html#returning-a-view-versus-a-copy\n",
      "  \"\"\"Entry point for launching an IPython kernel.\n"
     ]
    }
   ],
   "source": [
    "data2['Installs'] = data2['Installs'].str.replace('+', '', regex = True)"
   ]
  },
  {
   "cell_type": "code",
   "execution_count": 39,
   "metadata": {
    "colab": {
     "base_uri": "https://localhost:8080/",
     "height": 139
    },
    "colab_type": "code",
    "id": "k7ot9nthuPRf",
    "outputId": "4723d991-3d6f-427e-a733-82676dd825e8"
   },
   "outputs": [
    {
     "name": "stderr",
     "output_type": "stream",
     "text": [
      "C:\\Users\\Amar\\Anaconda3\\lib\\site-packages\\ipykernel_launcher.py:1: SettingWithCopyWarning: \n",
      "A value is trying to be set on a copy of a slice from a DataFrame.\n",
      "Try using .loc[row_indexer,col_indexer] = value instead\n",
      "\n",
      "See the caveats in the documentation: http://pandas.pydata.org/pandas-docs/stable/user_guide/indexing.html#returning-a-view-versus-a-copy\n",
      "  \"\"\"Entry point for launching an IPython kernel.\n"
     ]
    }
   ],
   "source": [
    "data2['Installs'] = data2['Installs'].str.replace(',', '', regex = True)"
   ]
  },
  {
   "cell_type": "code",
   "execution_count": 40,
   "metadata": {
    "colab": {
     "base_uri": "https://localhost:8080/",
     "height": 966
    },
    "colab_type": "code",
    "id": "QSyYwh5U6EDJ",
    "outputId": "29b466b7-0195-4042-867a-c8c9bbd62da9"
   },
   "outputs": [
    {
     "data": {
      "text/html": [
       "<div>\n",
       "<style scoped>\n",
       "    .dataframe tbody tr th:only-of-type {\n",
       "        vertical-align: middle;\n",
       "    }\n",
       "\n",
       "    .dataframe tbody tr th {\n",
       "        vertical-align: top;\n",
       "    }\n",
       "\n",
       "    .dataframe thead th {\n",
       "        text-align: right;\n",
       "    }\n",
       "</style>\n",
       "<table border=\"1\" class=\"dataframe\">\n",
       "  <thead>\n",
       "    <tr style=\"text-align: right;\">\n",
       "      <th></th>\n",
       "      <th>App</th>\n",
       "      <th>Category</th>\n",
       "      <th>Rating</th>\n",
       "      <th>Reviews</th>\n",
       "      <th>Size</th>\n",
       "      <th>Installs</th>\n",
       "      <th>Type</th>\n",
       "      <th>Price</th>\n",
       "      <th>Content Rating</th>\n",
       "      <th>Genres</th>\n",
       "      <th>Last Updated</th>\n",
       "      <th>Current Ver</th>\n",
       "      <th>Android Ver</th>\n",
       "    </tr>\n",
       "  </thead>\n",
       "  <tbody>\n",
       "    <tr>\n",
       "      <td>0</td>\n",
       "      <td>Photo Editor &amp; Candy Camera &amp; Grid &amp; ScrapBook</td>\n",
       "      <td>ART_AND_DESIGN</td>\n",
       "      <td>4.1</td>\n",
       "      <td>159</td>\n",
       "      <td>19000</td>\n",
       "      <td>10000</td>\n",
       "      <td>Free</td>\n",
       "      <td>0</td>\n",
       "      <td>Everyone</td>\n",
       "      <td>Art &amp; Design</td>\n",
       "      <td>January 7, 2018</td>\n",
       "      <td>1.0.0</td>\n",
       "      <td>4.0.3 and up</td>\n",
       "    </tr>\n",
       "    <tr>\n",
       "      <td>1</td>\n",
       "      <td>Coloring book moana</td>\n",
       "      <td>ART_AND_DESIGN</td>\n",
       "      <td>3.9</td>\n",
       "      <td>967</td>\n",
       "      <td>14000</td>\n",
       "      <td>500000</td>\n",
       "      <td>Free</td>\n",
       "      <td>0</td>\n",
       "      <td>Everyone</td>\n",
       "      <td>Art &amp; Design;Pretend Play</td>\n",
       "      <td>January 15, 2018</td>\n",
       "      <td>2.0.0</td>\n",
       "      <td>4.0.3 and up</td>\n",
       "    </tr>\n",
       "    <tr>\n",
       "      <td>2</td>\n",
       "      <td>U Launcher Lite – FREE Live Cool Themes, Hide ...</td>\n",
       "      <td>ART_AND_DESIGN</td>\n",
       "      <td>4.7</td>\n",
       "      <td>87510</td>\n",
       "      <td>87000</td>\n",
       "      <td>5000000</td>\n",
       "      <td>Free</td>\n",
       "      <td>0</td>\n",
       "      <td>Everyone</td>\n",
       "      <td>Art &amp; Design</td>\n",
       "      <td>August 1, 2018</td>\n",
       "      <td>1.2.4</td>\n",
       "      <td>4.0.3 and up</td>\n",
       "    </tr>\n",
       "    <tr>\n",
       "      <td>3</td>\n",
       "      <td>Sketch - Draw &amp; Paint</td>\n",
       "      <td>ART_AND_DESIGN</td>\n",
       "      <td>4.5</td>\n",
       "      <td>215644</td>\n",
       "      <td>25000</td>\n",
       "      <td>50000000</td>\n",
       "      <td>Free</td>\n",
       "      <td>0</td>\n",
       "      <td>Teen</td>\n",
       "      <td>Art &amp; Design</td>\n",
       "      <td>June 8, 2018</td>\n",
       "      <td>Varies with device</td>\n",
       "      <td>4.2 and up</td>\n",
       "    </tr>\n",
       "    <tr>\n",
       "      <td>4</td>\n",
       "      <td>Pixel Draw - Number Art Coloring Book</td>\n",
       "      <td>ART_AND_DESIGN</td>\n",
       "      <td>4.3</td>\n",
       "      <td>967</td>\n",
       "      <td>28000</td>\n",
       "      <td>100000</td>\n",
       "      <td>Free</td>\n",
       "      <td>0</td>\n",
       "      <td>Everyone</td>\n",
       "      <td>Art &amp; Design;Creativity</td>\n",
       "      <td>June 20, 2018</td>\n",
       "      <td>1.1</td>\n",
       "      <td>4.4 and up</td>\n",
       "    </tr>\n",
       "    <tr>\n",
       "      <td>...</td>\n",
       "      <td>...</td>\n",
       "      <td>...</td>\n",
       "      <td>...</td>\n",
       "      <td>...</td>\n",
       "      <td>...</td>\n",
       "      <td>...</td>\n",
       "      <td>...</td>\n",
       "      <td>...</td>\n",
       "      <td>...</td>\n",
       "      <td>...</td>\n",
       "      <td>...</td>\n",
       "      <td>...</td>\n",
       "      <td>...</td>\n",
       "    </tr>\n",
       "    <tr>\n",
       "      <td>10833</td>\n",
       "      <td>Chemin (fr)</td>\n",
       "      <td>BOOKS_AND_REFERENCE</td>\n",
       "      <td>4.8</td>\n",
       "      <td>44</td>\n",
       "      <td>619</td>\n",
       "      <td>1000</td>\n",
       "      <td>Free</td>\n",
       "      <td>0</td>\n",
       "      <td>Everyone</td>\n",
       "      <td>Books &amp; Reference</td>\n",
       "      <td>March 23, 2014</td>\n",
       "      <td>0.8</td>\n",
       "      <td>2.2 and up</td>\n",
       "    </tr>\n",
       "    <tr>\n",
       "      <td>10834</td>\n",
       "      <td>FR Calculator</td>\n",
       "      <td>FAMILY</td>\n",
       "      <td>4.0</td>\n",
       "      <td>7</td>\n",
       "      <td>26000</td>\n",
       "      <td>500</td>\n",
       "      <td>Free</td>\n",
       "      <td>0</td>\n",
       "      <td>Everyone</td>\n",
       "      <td>Education</td>\n",
       "      <td>June 18, 2017</td>\n",
       "      <td>1.0.0</td>\n",
       "      <td>4.1 and up</td>\n",
       "    </tr>\n",
       "    <tr>\n",
       "      <td>10836</td>\n",
       "      <td>Sya9a Maroc - FR</td>\n",
       "      <td>FAMILY</td>\n",
       "      <td>4.5</td>\n",
       "      <td>38</td>\n",
       "      <td>53000</td>\n",
       "      <td>5000</td>\n",
       "      <td>Free</td>\n",
       "      <td>0</td>\n",
       "      <td>Everyone</td>\n",
       "      <td>Education</td>\n",
       "      <td>July 25, 2017</td>\n",
       "      <td>1.48</td>\n",
       "      <td>4.1 and up</td>\n",
       "    </tr>\n",
       "    <tr>\n",
       "      <td>10837</td>\n",
       "      <td>Fr. Mike Schmitz Audio Teachings</td>\n",
       "      <td>FAMILY</td>\n",
       "      <td>5.0</td>\n",
       "      <td>4</td>\n",
       "      <td>36000</td>\n",
       "      <td>100</td>\n",
       "      <td>Free</td>\n",
       "      <td>0</td>\n",
       "      <td>Everyone</td>\n",
       "      <td>Education</td>\n",
       "      <td>July 6, 2018</td>\n",
       "      <td>1.0</td>\n",
       "      <td>4.1 and up</td>\n",
       "    </tr>\n",
       "    <tr>\n",
       "      <td>10840</td>\n",
       "      <td>iHoroscope - 2018 Daily Horoscope &amp; Astrology</td>\n",
       "      <td>LIFESTYLE</td>\n",
       "      <td>4.5</td>\n",
       "      <td>398307</td>\n",
       "      <td>19000</td>\n",
       "      <td>10000000</td>\n",
       "      <td>Free</td>\n",
       "      <td>0</td>\n",
       "      <td>Everyone</td>\n",
       "      <td>Lifestyle</td>\n",
       "      <td>July 25, 2018</td>\n",
       "      <td>Varies with device</td>\n",
       "      <td>Varies with device</td>\n",
       "    </tr>\n",
       "  </tbody>\n",
       "</table>\n",
       "<p>7723 rows × 13 columns</p>\n",
       "</div>"
      ],
      "text/plain": [
       "                                                     App             Category  \\\n",
       "0         Photo Editor & Candy Camera & Grid & ScrapBook       ART_AND_DESIGN   \n",
       "1                                    Coloring book moana       ART_AND_DESIGN   \n",
       "2      U Launcher Lite – FREE Live Cool Themes, Hide ...       ART_AND_DESIGN   \n",
       "3                                  Sketch - Draw & Paint       ART_AND_DESIGN   \n",
       "4                  Pixel Draw - Number Art Coloring Book       ART_AND_DESIGN   \n",
       "...                                                  ...                  ...   \n",
       "10833                                        Chemin (fr)  BOOKS_AND_REFERENCE   \n",
       "10834                                      FR Calculator               FAMILY   \n",
       "10836                                   Sya9a Maroc - FR               FAMILY   \n",
       "10837                   Fr. Mike Schmitz Audio Teachings               FAMILY   \n",
       "10840      iHoroscope - 2018 Daily Horoscope & Astrology            LIFESTYLE   \n",
       "\n",
       "       Rating  Reviews   Size  Installs  Type Price Content Rating  \\\n",
       "0         4.1      159  19000     10000  Free     0       Everyone   \n",
       "1         3.9      967  14000    500000  Free     0       Everyone   \n",
       "2         4.7    87510  87000   5000000  Free     0       Everyone   \n",
       "3         4.5   215644  25000  50000000  Free     0           Teen   \n",
       "4         4.3      967  28000    100000  Free     0       Everyone   \n",
       "...       ...      ...    ...       ...   ...   ...            ...   \n",
       "10833     4.8       44    619      1000  Free     0       Everyone   \n",
       "10834     4.0        7  26000       500  Free     0       Everyone   \n",
       "10836     4.5       38  53000      5000  Free     0       Everyone   \n",
       "10837     5.0        4  36000       100  Free     0       Everyone   \n",
       "10840     4.5   398307  19000  10000000  Free     0       Everyone   \n",
       "\n",
       "                          Genres      Last Updated         Current Ver  \\\n",
       "0                   Art & Design   January 7, 2018               1.0.0   \n",
       "1      Art & Design;Pretend Play  January 15, 2018               2.0.0   \n",
       "2                   Art & Design    August 1, 2018               1.2.4   \n",
       "3                   Art & Design      June 8, 2018  Varies with device   \n",
       "4        Art & Design;Creativity     June 20, 2018                 1.1   \n",
       "...                          ...               ...                 ...   \n",
       "10833          Books & Reference    March 23, 2014                 0.8   \n",
       "10834                  Education     June 18, 2017               1.0.0   \n",
       "10836                  Education     July 25, 2017                1.48   \n",
       "10837                  Education      July 6, 2018                 1.0   \n",
       "10840                  Lifestyle     July 25, 2018  Varies with device   \n",
       "\n",
       "              Android Ver  \n",
       "0            4.0.3 and up  \n",
       "1            4.0.3 and up  \n",
       "2            4.0.3 and up  \n",
       "3              4.2 and up  \n",
       "4              4.4 and up  \n",
       "...                   ...  \n",
       "10833          2.2 and up  \n",
       "10834          4.1 and up  \n",
       "10836          4.1 and up  \n",
       "10837          4.1 and up  \n",
       "10840  Varies with device  \n",
       "\n",
       "[7723 rows x 13 columns]"
      ]
     },
     "execution_count": 40,
     "metadata": {},
     "output_type": "execute_result"
    }
   ],
   "source": [
    "data2"
   ]
  },
  {
   "cell_type": "code",
   "execution_count": 41,
   "metadata": {
    "colab": {
     "base_uri": "https://localhost:8080/",
     "height": 139
    },
    "colab_type": "code",
    "id": "MytaF4SV6Kua",
    "outputId": "96b96585-990b-4046-c735-c6fb301d6b24"
   },
   "outputs": [
    {
     "name": "stderr",
     "output_type": "stream",
     "text": [
      "C:\\Users\\Amar\\Anaconda3\\lib\\site-packages\\ipykernel_launcher.py:1: SettingWithCopyWarning: \n",
      "A value is trying to be set on a copy of a slice from a DataFrame.\n",
      "Try using .loc[row_indexer,col_indexer] = value instead\n",
      "\n",
      "See the caveats in the documentation: http://pandas.pydata.org/pandas-docs/stable/user_guide/indexing.html#returning-a-view-versus-a-copy\n",
      "  \"\"\"Entry point for launching an IPython kernel.\n"
     ]
    }
   ],
   "source": [
    "data2['Installs'] = data2['Installs'].astype(int)"
   ]
  },
  {
   "cell_type": "code",
   "execution_count": 42,
   "metadata": {
    "colab": {
     "base_uri": "https://localhost:8080/",
     "height": 323
    },
    "colab_type": "code",
    "id": "Iux3d0y36PAA",
    "outputId": "0af946bc-1db2-4143-c512-54fe4edccefd"
   },
   "outputs": [
    {
     "name": "stdout",
     "output_type": "stream",
     "text": [
      "<class 'pandas.core.frame.DataFrame'>\n",
      "Int64Index: 7723 entries, 0 to 10840\n",
      "Data columns (total 13 columns):\n",
      "App               7723 non-null object\n",
      "Category          7723 non-null object\n",
      "Rating            7723 non-null float64\n",
      "Reviews           7723 non-null int32\n",
      "Size              7723 non-null object\n",
      "Installs          7723 non-null int32\n",
      "Type              7723 non-null object\n",
      "Price             7723 non-null object\n",
      "Content Rating    7723 non-null object\n",
      "Genres            7723 non-null object\n",
      "Last Updated      7723 non-null object\n",
      "Current Ver       7723 non-null object\n",
      "Android Ver       7723 non-null object\n",
      "dtypes: float64(1), int32(2), object(10)\n",
      "memory usage: 784.4+ KB\n"
     ]
    }
   ],
   "source": [
    "data2.info()"
   ]
  },
  {
   "cell_type": "code",
   "execution_count": 43,
   "metadata": {
    "colab": {},
    "colab_type": "code",
    "id": "veA1pvP06Luj"
   },
   "outputs": [],
   "source": [
    "#4.4.\tPrice field is a string and has $ symbol. Remove ‘$’ sign, and convert it to numeric."
   ]
  },
  {
   "cell_type": "code",
   "execution_count": 44,
   "metadata": {
    "colab": {
     "base_uri": "https://localhost:8080/",
     "height": 139
    },
    "colab_type": "code",
    "id": "gJG0cN9x6vzD",
    "outputId": "4d5932c2-7313-489b-9b18-e61ab305220f"
   },
   "outputs": [
    {
     "name": "stderr",
     "output_type": "stream",
     "text": [
      "C:\\Users\\Amar\\Anaconda3\\lib\\site-packages\\ipykernel_launcher.py:1: SettingWithCopyWarning: \n",
      "A value is trying to be set on a copy of a slice from a DataFrame.\n",
      "Try using .loc[row_indexer,col_indexer] = value instead\n",
      "\n",
      "See the caveats in the documentation: http://pandas.pydata.org/pandas-docs/stable/user_guide/indexing.html#returning-a-view-versus-a-copy\n",
      "  \"\"\"Entry point for launching an IPython kernel.\n"
     ]
    }
   ],
   "source": [
    "data2['Price'] = data2['Price'].str.replace('$', '', regex = True)"
   ]
  },
  {
   "cell_type": "code",
   "execution_count": 45,
   "metadata": {
    "colab": {
     "base_uri": "https://localhost:8080/",
     "height": 139
    },
    "colab_type": "code",
    "id": "g8TLoBNZ_ISw",
    "outputId": "1807666a-9344-473f-a300-f46921034bdd"
   },
   "outputs": [
    {
     "name": "stderr",
     "output_type": "stream",
     "text": [
      "C:\\Users\\Amar\\Anaconda3\\lib\\site-packages\\ipykernel_launcher.py:1: SettingWithCopyWarning: \n",
      "A value is trying to be set on a copy of a slice from a DataFrame.\n",
      "Try using .loc[row_indexer,col_indexer] = value instead\n",
      "\n",
      "See the caveats in the documentation: http://pandas.pydata.org/pandas-docs/stable/user_guide/indexing.html#returning-a-view-versus-a-copy\n",
      "  \"\"\"Entry point for launching an IPython kernel.\n"
     ]
    }
   ],
   "source": [
    "data2['Price'] = data2['Price'].astype(float)"
   ]
  },
  {
   "cell_type": "code",
   "execution_count": 46,
   "metadata": {
    "colab": {
     "base_uri": "https://localhost:8080/",
     "height": 323
    },
    "colab_type": "code",
    "id": "zjwSQi0XJaR2",
    "outputId": "c2cbe0dd-f37a-4da4-e007-865b0d63a61c"
   },
   "outputs": [
    {
     "name": "stdout",
     "output_type": "stream",
     "text": [
      "<class 'pandas.core.frame.DataFrame'>\n",
      "Int64Index: 7723 entries, 0 to 10840\n",
      "Data columns (total 13 columns):\n",
      "App               7723 non-null object\n",
      "Category          7723 non-null object\n",
      "Rating            7723 non-null float64\n",
      "Reviews           7723 non-null int32\n",
      "Size              7723 non-null object\n",
      "Installs          7723 non-null int32\n",
      "Type              7723 non-null object\n",
      "Price             7723 non-null float64\n",
      "Content Rating    7723 non-null object\n",
      "Genres            7723 non-null object\n",
      "Last Updated      7723 non-null object\n",
      "Current Ver       7723 non-null object\n",
      "Android Ver       7723 non-null object\n",
      "dtypes: float64(2), int32(2), object(9)\n",
      "memory usage: 784.4+ KB\n"
     ]
    }
   ],
   "source": [
    "data2.info()"
   ]
  },
  {
   "cell_type": "code",
   "execution_count": 47,
   "metadata": {
    "colab": {},
    "colab_type": "code",
    "id": "fye8rhB4QAg5"
   },
   "outputs": [],
   "source": [
    "#5. Sanity checks:\n",
    "#5.1.\tAverage rating should be between 1 and 5 as only these values are allowed on the play store.\n",
    "# Drop the rows that have a value outside this range."
   ]
  },
  {
   "cell_type": "code",
   "execution_count": 48,
   "metadata": {
    "colab": {},
    "colab_type": "code",
    "id": "9d9f2w_nFiBv"
   },
   "outputs": [],
   "source": [
    "#s2[s2.str.isdigit() == True].copy()\n",
    "#s2.loc[s2.str.isdigit()]\n",
    "#data2.loc[(data2.Rating < 5.0)]\n",
    "#data2.loc[(data2.Rating > 1.0)]\n",
    "#data2.loc[(1< data2.Rating)]\n",
    "data2 = data2.loc[data2.Rating.between(1.0 , 5.0)]\n",
    "#data2['Rating'] = data2.loc[(data2['Rating'] >= 1.0) & (data2['Rating'] <= 5.0)]"
   ]
  },
  {
   "cell_type": "code",
   "execution_count": 49,
   "metadata": {
    "colab": {
     "base_uri": "https://localhost:8080/",
     "height": 966
    },
    "colab_type": "code",
    "id": "7BoFPYHxyNjf",
    "outputId": "9389610b-261f-41ef-d4c0-72be4a32e7d4"
   },
   "outputs": [
    {
     "data": {
      "text/html": [
       "<div>\n",
       "<style scoped>\n",
       "    .dataframe tbody tr th:only-of-type {\n",
       "        vertical-align: middle;\n",
       "    }\n",
       "\n",
       "    .dataframe tbody tr th {\n",
       "        vertical-align: top;\n",
       "    }\n",
       "\n",
       "    .dataframe thead th {\n",
       "        text-align: right;\n",
       "    }\n",
       "</style>\n",
       "<table border=\"1\" class=\"dataframe\">\n",
       "  <thead>\n",
       "    <tr style=\"text-align: right;\">\n",
       "      <th></th>\n",
       "      <th>App</th>\n",
       "      <th>Category</th>\n",
       "      <th>Rating</th>\n",
       "      <th>Reviews</th>\n",
       "      <th>Size</th>\n",
       "      <th>Installs</th>\n",
       "      <th>Type</th>\n",
       "      <th>Price</th>\n",
       "      <th>Content Rating</th>\n",
       "      <th>Genres</th>\n",
       "      <th>Last Updated</th>\n",
       "      <th>Current Ver</th>\n",
       "      <th>Android Ver</th>\n",
       "    </tr>\n",
       "  </thead>\n",
       "  <tbody>\n",
       "    <tr>\n",
       "      <td>0</td>\n",
       "      <td>Photo Editor &amp; Candy Camera &amp; Grid &amp; ScrapBook</td>\n",
       "      <td>ART_AND_DESIGN</td>\n",
       "      <td>4.1</td>\n",
       "      <td>159</td>\n",
       "      <td>19000</td>\n",
       "      <td>10000</td>\n",
       "      <td>Free</td>\n",
       "      <td>0.0</td>\n",
       "      <td>Everyone</td>\n",
       "      <td>Art &amp; Design</td>\n",
       "      <td>January 7, 2018</td>\n",
       "      <td>1.0.0</td>\n",
       "      <td>4.0.3 and up</td>\n",
       "    </tr>\n",
       "    <tr>\n",
       "      <td>1</td>\n",
       "      <td>Coloring book moana</td>\n",
       "      <td>ART_AND_DESIGN</td>\n",
       "      <td>3.9</td>\n",
       "      <td>967</td>\n",
       "      <td>14000</td>\n",
       "      <td>500000</td>\n",
       "      <td>Free</td>\n",
       "      <td>0.0</td>\n",
       "      <td>Everyone</td>\n",
       "      <td>Art &amp; Design;Pretend Play</td>\n",
       "      <td>January 15, 2018</td>\n",
       "      <td>2.0.0</td>\n",
       "      <td>4.0.3 and up</td>\n",
       "    </tr>\n",
       "    <tr>\n",
       "      <td>2</td>\n",
       "      <td>U Launcher Lite – FREE Live Cool Themes, Hide ...</td>\n",
       "      <td>ART_AND_DESIGN</td>\n",
       "      <td>4.7</td>\n",
       "      <td>87510</td>\n",
       "      <td>87000</td>\n",
       "      <td>5000000</td>\n",
       "      <td>Free</td>\n",
       "      <td>0.0</td>\n",
       "      <td>Everyone</td>\n",
       "      <td>Art &amp; Design</td>\n",
       "      <td>August 1, 2018</td>\n",
       "      <td>1.2.4</td>\n",
       "      <td>4.0.3 and up</td>\n",
       "    </tr>\n",
       "    <tr>\n",
       "      <td>3</td>\n",
       "      <td>Sketch - Draw &amp; Paint</td>\n",
       "      <td>ART_AND_DESIGN</td>\n",
       "      <td>4.5</td>\n",
       "      <td>215644</td>\n",
       "      <td>25000</td>\n",
       "      <td>50000000</td>\n",
       "      <td>Free</td>\n",
       "      <td>0.0</td>\n",
       "      <td>Teen</td>\n",
       "      <td>Art &amp; Design</td>\n",
       "      <td>June 8, 2018</td>\n",
       "      <td>Varies with device</td>\n",
       "      <td>4.2 and up</td>\n",
       "    </tr>\n",
       "    <tr>\n",
       "      <td>4</td>\n",
       "      <td>Pixel Draw - Number Art Coloring Book</td>\n",
       "      <td>ART_AND_DESIGN</td>\n",
       "      <td>4.3</td>\n",
       "      <td>967</td>\n",
       "      <td>28000</td>\n",
       "      <td>100000</td>\n",
       "      <td>Free</td>\n",
       "      <td>0.0</td>\n",
       "      <td>Everyone</td>\n",
       "      <td>Art &amp; Design;Creativity</td>\n",
       "      <td>June 20, 2018</td>\n",
       "      <td>1.1</td>\n",
       "      <td>4.4 and up</td>\n",
       "    </tr>\n",
       "    <tr>\n",
       "      <td>...</td>\n",
       "      <td>...</td>\n",
       "      <td>...</td>\n",
       "      <td>...</td>\n",
       "      <td>...</td>\n",
       "      <td>...</td>\n",
       "      <td>...</td>\n",
       "      <td>...</td>\n",
       "      <td>...</td>\n",
       "      <td>...</td>\n",
       "      <td>...</td>\n",
       "      <td>...</td>\n",
       "      <td>...</td>\n",
       "      <td>...</td>\n",
       "    </tr>\n",
       "    <tr>\n",
       "      <td>10833</td>\n",
       "      <td>Chemin (fr)</td>\n",
       "      <td>BOOKS_AND_REFERENCE</td>\n",
       "      <td>4.8</td>\n",
       "      <td>44</td>\n",
       "      <td>619</td>\n",
       "      <td>1000</td>\n",
       "      <td>Free</td>\n",
       "      <td>0.0</td>\n",
       "      <td>Everyone</td>\n",
       "      <td>Books &amp; Reference</td>\n",
       "      <td>March 23, 2014</td>\n",
       "      <td>0.8</td>\n",
       "      <td>2.2 and up</td>\n",
       "    </tr>\n",
       "    <tr>\n",
       "      <td>10834</td>\n",
       "      <td>FR Calculator</td>\n",
       "      <td>FAMILY</td>\n",
       "      <td>4.0</td>\n",
       "      <td>7</td>\n",
       "      <td>26000</td>\n",
       "      <td>500</td>\n",
       "      <td>Free</td>\n",
       "      <td>0.0</td>\n",
       "      <td>Everyone</td>\n",
       "      <td>Education</td>\n",
       "      <td>June 18, 2017</td>\n",
       "      <td>1.0.0</td>\n",
       "      <td>4.1 and up</td>\n",
       "    </tr>\n",
       "    <tr>\n",
       "      <td>10836</td>\n",
       "      <td>Sya9a Maroc - FR</td>\n",
       "      <td>FAMILY</td>\n",
       "      <td>4.5</td>\n",
       "      <td>38</td>\n",
       "      <td>53000</td>\n",
       "      <td>5000</td>\n",
       "      <td>Free</td>\n",
       "      <td>0.0</td>\n",
       "      <td>Everyone</td>\n",
       "      <td>Education</td>\n",
       "      <td>July 25, 2017</td>\n",
       "      <td>1.48</td>\n",
       "      <td>4.1 and up</td>\n",
       "    </tr>\n",
       "    <tr>\n",
       "      <td>10837</td>\n",
       "      <td>Fr. Mike Schmitz Audio Teachings</td>\n",
       "      <td>FAMILY</td>\n",
       "      <td>5.0</td>\n",
       "      <td>4</td>\n",
       "      <td>36000</td>\n",
       "      <td>100</td>\n",
       "      <td>Free</td>\n",
       "      <td>0.0</td>\n",
       "      <td>Everyone</td>\n",
       "      <td>Education</td>\n",
       "      <td>July 6, 2018</td>\n",
       "      <td>1.0</td>\n",
       "      <td>4.1 and up</td>\n",
       "    </tr>\n",
       "    <tr>\n",
       "      <td>10840</td>\n",
       "      <td>iHoroscope - 2018 Daily Horoscope &amp; Astrology</td>\n",
       "      <td>LIFESTYLE</td>\n",
       "      <td>4.5</td>\n",
       "      <td>398307</td>\n",
       "      <td>19000</td>\n",
       "      <td>10000000</td>\n",
       "      <td>Free</td>\n",
       "      <td>0.0</td>\n",
       "      <td>Everyone</td>\n",
       "      <td>Lifestyle</td>\n",
       "      <td>July 25, 2018</td>\n",
       "      <td>Varies with device</td>\n",
       "      <td>Varies with device</td>\n",
       "    </tr>\n",
       "  </tbody>\n",
       "</table>\n",
       "<p>7723 rows × 13 columns</p>\n",
       "</div>"
      ],
      "text/plain": [
       "                                                     App             Category  \\\n",
       "0         Photo Editor & Candy Camera & Grid & ScrapBook       ART_AND_DESIGN   \n",
       "1                                    Coloring book moana       ART_AND_DESIGN   \n",
       "2      U Launcher Lite – FREE Live Cool Themes, Hide ...       ART_AND_DESIGN   \n",
       "3                                  Sketch - Draw & Paint       ART_AND_DESIGN   \n",
       "4                  Pixel Draw - Number Art Coloring Book       ART_AND_DESIGN   \n",
       "...                                                  ...                  ...   \n",
       "10833                                        Chemin (fr)  BOOKS_AND_REFERENCE   \n",
       "10834                                      FR Calculator               FAMILY   \n",
       "10836                                   Sya9a Maroc - FR               FAMILY   \n",
       "10837                   Fr. Mike Schmitz Audio Teachings               FAMILY   \n",
       "10840      iHoroscope - 2018 Daily Horoscope & Astrology            LIFESTYLE   \n",
       "\n",
       "       Rating  Reviews   Size  Installs  Type  Price Content Rating  \\\n",
       "0         4.1      159  19000     10000  Free    0.0       Everyone   \n",
       "1         3.9      967  14000    500000  Free    0.0       Everyone   \n",
       "2         4.7    87510  87000   5000000  Free    0.0       Everyone   \n",
       "3         4.5   215644  25000  50000000  Free    0.0           Teen   \n",
       "4         4.3      967  28000    100000  Free    0.0       Everyone   \n",
       "...       ...      ...    ...       ...   ...    ...            ...   \n",
       "10833     4.8       44    619      1000  Free    0.0       Everyone   \n",
       "10834     4.0        7  26000       500  Free    0.0       Everyone   \n",
       "10836     4.5       38  53000      5000  Free    0.0       Everyone   \n",
       "10837     5.0        4  36000       100  Free    0.0       Everyone   \n",
       "10840     4.5   398307  19000  10000000  Free    0.0       Everyone   \n",
       "\n",
       "                          Genres      Last Updated         Current Ver  \\\n",
       "0                   Art & Design   January 7, 2018               1.0.0   \n",
       "1      Art & Design;Pretend Play  January 15, 2018               2.0.0   \n",
       "2                   Art & Design    August 1, 2018               1.2.4   \n",
       "3                   Art & Design      June 8, 2018  Varies with device   \n",
       "4        Art & Design;Creativity     June 20, 2018                 1.1   \n",
       "...                          ...               ...                 ...   \n",
       "10833          Books & Reference    March 23, 2014                 0.8   \n",
       "10834                  Education     June 18, 2017               1.0.0   \n",
       "10836                  Education     July 25, 2017                1.48   \n",
       "10837                  Education      July 6, 2018                 1.0   \n",
       "10840                  Lifestyle     July 25, 2018  Varies with device   \n",
       "\n",
       "              Android Ver  \n",
       "0            4.0.3 and up  \n",
       "1            4.0.3 and up  \n",
       "2            4.0.3 and up  \n",
       "3              4.2 and up  \n",
       "4              4.4 and up  \n",
       "...                   ...  \n",
       "10833          2.2 and up  \n",
       "10834          4.1 and up  \n",
       "10836          4.1 and up  \n",
       "10837          4.1 and up  \n",
       "10840  Varies with device  \n",
       "\n",
       "[7723 rows x 13 columns]"
      ]
     },
     "execution_count": 49,
     "metadata": {},
     "output_type": "execute_result"
    }
   ],
   "source": [
    "data2"
   ]
  },
  {
   "cell_type": "code",
   "execution_count": 50,
   "metadata": {
    "colab": {},
    "colab_type": "code",
    "id": "d8vKBRl_EjW4"
   },
   "outputs": [],
   "source": [
    "#5.2.\tReviews should not be more than installs as only those who installed can review the app. \n",
    "#If there are any such records, drop them."
   ]
  },
  {
   "cell_type": "code",
   "execution_count": 51,
   "metadata": {
    "colab": {},
    "colab_type": "code",
    "id": "MnngxtjMRhMv"
   },
   "outputs": [],
   "source": [
    "data2['R<=I'] = (data2['Reviews'] <= data2['Installs'])"
   ]
  },
  {
   "cell_type": "code",
   "execution_count": 52,
   "metadata": {
    "colab": {},
    "colab_type": "code",
    "id": "3Xr1iYlZSQ3j"
   },
   "outputs": [],
   "source": [
    "data3 = data2.loc[data2['R<=I']]"
   ]
  },
  {
   "cell_type": "code",
   "execution_count": 53,
   "metadata": {
    "colab": {},
    "colab_type": "code",
    "id": "Oyn-8zPaSqv7"
   },
   "outputs": [],
   "source": [
    "data3 = data3.drop(columns = 'R<=I')"
   ]
  },
  {
   "cell_type": "code",
   "execution_count": 54,
   "metadata": {
    "colab": {
     "base_uri": "https://localhost:8080/",
     "height": 323
    },
    "colab_type": "code",
    "id": "-XBQiiHJUbUO",
    "outputId": "328d1ddc-6545-4635-fa77-fef935ac7d27"
   },
   "outputs": [
    {
     "name": "stdout",
     "output_type": "stream",
     "text": [
      "<class 'pandas.core.frame.DataFrame'>\n",
      "Int64Index: 7717 entries, 0 to 10840\n",
      "Data columns (total 13 columns):\n",
      "App               7717 non-null object\n",
      "Category          7717 non-null object\n",
      "Rating            7717 non-null float64\n",
      "Reviews           7717 non-null int32\n",
      "Size              7717 non-null object\n",
      "Installs          7717 non-null int32\n",
      "Type              7717 non-null object\n",
      "Price             7717 non-null float64\n",
      "Content Rating    7717 non-null object\n",
      "Genres            7717 non-null object\n",
      "Last Updated      7717 non-null object\n",
      "Current Ver       7717 non-null object\n",
      "Android Ver       7717 non-null object\n",
      "dtypes: float64(2), int32(2), object(9)\n",
      "memory usage: 783.8+ KB\n"
     ]
    }
   ],
   "source": [
    "data3.info()"
   ]
  },
  {
   "cell_type": "code",
   "execution_count": 55,
   "metadata": {
    "colab": {},
    "colab_type": "code",
    "id": "MeC1EGH5UgP5"
   },
   "outputs": [],
   "source": [
    "#5.3.\tFor free apps (type = “Free”), the price should not be >0. Drop any such rows."
   ]
  },
  {
   "cell_type": "code",
   "execution_count": 56,
   "metadata": {
    "colab": {},
    "colab_type": "code",
    "id": "zWdEz-FnVu0m"
   },
   "outputs": [],
   "source": [
    "data4 = data3.loc[(data3['Price'] <= 0) & data3['Type'].isin(['Free']) | (data3['Price'] >= 0) & data3['Type'].isin(['Paid'])]"
   ]
  },
  {
   "cell_type": "code",
   "execution_count": 57,
   "metadata": {
    "colab": {},
    "colab_type": "code",
    "id": "EFoLJJ_GwKri"
   },
   "outputs": [],
   "source": [
    "data4['Rating'] = data4['Rating'].astype(float)"
   ]
  },
  {
   "cell_type": "code",
   "execution_count": 58,
   "metadata": {
    "colab": {},
    "colab_type": "code",
    "id": "gC1saVhN1j1u"
   },
   "outputs": [],
   "source": [
    "data4['Size'] = data4['Size'].astype(int)"
   ]
  },
  {
   "cell_type": "code",
   "execution_count": 59,
   "metadata": {
    "colab": {
     "base_uri": "https://localhost:8080/",
     "height": 323
    },
    "colab_type": "code",
    "id": "i43xcCLLh41x",
    "outputId": "c2bc661c-084b-433c-de1a-c4b933103752"
   },
   "outputs": [
    {
     "name": "stdout",
     "output_type": "stream",
     "text": [
      "<class 'pandas.core.frame.DataFrame'>\n",
      "Int64Index: 7717 entries, 0 to 10840\n",
      "Data columns (total 13 columns):\n",
      "App               7717 non-null object\n",
      "Category          7717 non-null object\n",
      "Rating            7717 non-null float64\n",
      "Reviews           7717 non-null int32\n",
      "Size              7717 non-null int32\n",
      "Installs          7717 non-null int32\n",
      "Type              7717 non-null object\n",
      "Price             7717 non-null float64\n",
      "Content Rating    7717 non-null object\n",
      "Genres            7717 non-null object\n",
      "Last Updated      7717 non-null object\n",
      "Current Ver       7717 non-null object\n",
      "Android Ver       7717 non-null object\n",
      "dtypes: float64(2), int32(3), object(8)\n",
      "memory usage: 753.6+ KB\n"
     ]
    }
   ],
   "source": [
    "data4.info()"
   ]
  },
  {
   "cell_type": "code",
   "execution_count": 60,
   "metadata": {
    "colab": {
     "base_uri": "https://localhost:8080/",
     "height": 297
    },
    "colab_type": "code",
    "id": "9-ySnIZ4nL5X",
    "outputId": "31a7ca02-644f-4dfb-af81-ad7284d6e03e"
   },
   "outputs": [
    {
     "data": {
      "text/html": [
       "<div>\n",
       "<style scoped>\n",
       "    .dataframe tbody tr th:only-of-type {\n",
       "        vertical-align: middle;\n",
       "    }\n",
       "\n",
       "    .dataframe tbody tr th {\n",
       "        vertical-align: top;\n",
       "    }\n",
       "\n",
       "    .dataframe thead th {\n",
       "        text-align: right;\n",
       "    }\n",
       "</style>\n",
       "<table border=\"1\" class=\"dataframe\">\n",
       "  <thead>\n",
       "    <tr style=\"text-align: right;\">\n",
       "      <th></th>\n",
       "      <th>Rating</th>\n",
       "      <th>Reviews</th>\n",
       "      <th>Size</th>\n",
       "      <th>Installs</th>\n",
       "      <th>Price</th>\n",
       "    </tr>\n",
       "  </thead>\n",
       "  <tbody>\n",
       "    <tr>\n",
       "      <td>count</td>\n",
       "      <td>7717.000000</td>\n",
       "      <td>7.717000e+03</td>\n",
       "      <td>7717.000000</td>\n",
       "      <td>7.717000e+03</td>\n",
       "      <td>7717.000000</td>\n",
       "    </tr>\n",
       "    <tr>\n",
       "      <td>mean</td>\n",
       "      <td>4.173293</td>\n",
       "      <td>2.951275e+05</td>\n",
       "      <td>39789.025398</td>\n",
       "      <td>8.430620e+06</td>\n",
       "      <td>1.128725</td>\n",
       "    </tr>\n",
       "    <tr>\n",
       "      <td>std</td>\n",
       "      <td>0.544362</td>\n",
       "      <td>1.864640e+06</td>\n",
       "      <td>25192.753032</td>\n",
       "      <td>5.017636e+07</td>\n",
       "      <td>17.414784</td>\n",
       "    </tr>\n",
       "    <tr>\n",
       "      <td>min</td>\n",
       "      <td>1.000000</td>\n",
       "      <td>1.000000e+00</td>\n",
       "      <td>14.000000</td>\n",
       "      <td>5.000000e+00</td>\n",
       "      <td>0.000000</td>\n",
       "    </tr>\n",
       "    <tr>\n",
       "      <td>25%</td>\n",
       "      <td>4.000000</td>\n",
       "      <td>1.090000e+02</td>\n",
       "      <td>20000.000000</td>\n",
       "      <td>1.000000e+04</td>\n",
       "      <td>0.000000</td>\n",
       "    </tr>\n",
       "    <tr>\n",
       "      <td>50%</td>\n",
       "      <td>4.300000</td>\n",
       "      <td>2.351000e+03</td>\n",
       "      <td>34000.000000</td>\n",
       "      <td>1.000000e+05</td>\n",
       "      <td>0.000000</td>\n",
       "    </tr>\n",
       "    <tr>\n",
       "      <td>75%</td>\n",
       "      <td>4.500000</td>\n",
       "      <td>3.910900e+04</td>\n",
       "      <td>57000.000000</td>\n",
       "      <td>1.000000e+06</td>\n",
       "      <td>0.000000</td>\n",
       "    </tr>\n",
       "    <tr>\n",
       "      <td>max</td>\n",
       "      <td>5.000000</td>\n",
       "      <td>4.489389e+07</td>\n",
       "      <td>100000.000000</td>\n",
       "      <td>1.000000e+09</td>\n",
       "      <td>400.000000</td>\n",
       "    </tr>\n",
       "  </tbody>\n",
       "</table>\n",
       "</div>"
      ],
      "text/plain": [
       "            Rating       Reviews           Size      Installs        Price\n",
       "count  7717.000000  7.717000e+03    7717.000000  7.717000e+03  7717.000000\n",
       "mean      4.173293  2.951275e+05   39789.025398  8.430620e+06     1.128725\n",
       "std       0.544362  1.864640e+06   25192.753032  5.017636e+07    17.414784\n",
       "min       1.000000  1.000000e+00      14.000000  5.000000e+00     0.000000\n",
       "25%       4.000000  1.090000e+02   20000.000000  1.000000e+04     0.000000\n",
       "50%       4.300000  2.351000e+03   34000.000000  1.000000e+05     0.000000\n",
       "75%       4.500000  3.910900e+04   57000.000000  1.000000e+06     0.000000\n",
       "max       5.000000  4.489389e+07  100000.000000  1.000000e+09   400.000000"
      ]
     },
     "execution_count": 60,
     "metadata": {},
     "output_type": "execute_result"
    }
   ],
   "source": [
    "data4.describe()"
   ]
  },
  {
   "cell_type": "code",
   "execution_count": 61,
   "metadata": {
    "colab": {},
    "colab_type": "code",
    "id": "1CcSQQlLoZou"
   },
   "outputs": [],
   "source": [
    "data4.to_csv('file1.csv')"
   ]
  },
  {
   "cell_type": "code",
   "execution_count": 62,
   "metadata": {
    "colab": {},
    "colab_type": "code",
    "id": "V5E9xAzJl7Uv"
   },
   "outputs": [],
   "source": [
    "#6. Performing univariate analysis: \n",
    "#•\tBoxplot for Price\n",
    "#•\tAre there any outliers? Think about the price of usual apps on Play Store."
   ]
  },
  {
   "cell_type": "code",
   "execution_count": 63,
   "metadata": {
    "colab": {
     "base_uri": "https://localhost:8080/",
     "height": 296
    },
    "colab_type": "code",
    "id": "14ykOJwRm1zq",
    "outputId": "5ee15883-7b5f-422d-f1c0-7e4dae0b49e3"
   },
   "outputs": [
    {
     "data": {
      "text/plain": [
       "<matplotlib.axes._subplots.AxesSubplot at 0x2e5fc539148>"
      ]
     },
     "execution_count": 63,
     "metadata": {},
     "output_type": "execute_result"
    },
    {
     "data": {
      "image/png": "[encoded data removed]",
      "text/plain": [
       "<Figure size 432x288 with 1 Axes>"
      ]
     },
     "metadata": {
      "needs_background": "light"
     },
     "output_type": "display_data"
    }
   ],
   "source": [
    "sns.boxplot(data4.Price)"
   ]
  },
  {
   "cell_type": "code",
   "execution_count": 64,
   "metadata": {
    "colab": {},
    "colab_type": "code",
    "id": "SuxXYQDenAfX"
   },
   "outputs": [],
   "source": [
    "#•\tBoxplot for Reviews\n",
    "#•\tAre there any apps with very high number of reviews? Do the values seem right?"
   ]
  },
  {
   "cell_type": "code",
   "execution_count": 65,
   "metadata": {
    "colab": {
     "base_uri": "https://localhost:8080/",
     "height": 296
    },
    "colab_type": "code",
    "id": "bKxQsUiTvM6B",
    "outputId": "4c102fa4-1008-49a6-faff-9cce7bcf3520"
   },
   "outputs": [
    {
     "data": {
      "text/plain": [
       "<matplotlib.axes._subplots.AxesSubplot at 0x2e5fc456948>"
      ]
     },
     "execution_count": 65,
     "metadata": {},
     "output_type": "execute_result"
    },
    {
     "data": {
      "image/png": "[encoded data removed]",
      "text/plain": [
       "<Figure size 432x288 with 1 Axes>"
      ]
     },
     "metadata": {
      "needs_background": "light"
     },
     "output_type": "display_data"
    }
   ],
   "source": [
    "sns.boxplot(data4.Reviews)"
   ]
  },
  {
   "cell_type": "code",
   "execution_count": 66,
   "metadata": {
    "colab": {},
    "colab_type": "code",
    "id": "O1XxAWI0vZqc"
   },
   "outputs": [],
   "source": [
    "#•\tHistogram for Rating\n",
    "#•\tHow are the ratings distributed? Is it more toward higher ratings?"
   ]
  },
  {
   "cell_type": "code",
   "execution_count": 67,
   "metadata": {
    "colab": {
     "base_uri": "https://localhost:8080/",
     "height": 282
    },
    "colab_type": "code",
    "id": "7NrxrTjwvji0",
    "outputId": "703dc716-075b-4255-c080-db953d65c888"
   },
   "outputs": [
    {
     "data": {
      "text/plain": [
       "<matplotlib.axes._subplots.AxesSubplot at 0x2e5fc48b148>"
      ]
     },
     "execution_count": 67,
     "metadata": {},
     "output_type": "execute_result"
    },
    {
     "data": {
      "image/png": "[encoded data removed]",
      "text/plain": [
       "<Figure size 432x288 with 1 Axes>"
      ]
     },
     "metadata": {
      "needs_background": "light"
     },
     "output_type": "display_data"
    }
   ],
   "source": [
    "data4.Rating.plot.hist()"
   ]
  },
  {
   "cell_type": "code",
   "execution_count": 68,
   "metadata": {
    "colab": {},
    "colab_type": "code",
    "id": "AP14dLSXv9jQ"
   },
   "outputs": [],
   "source": [
    "#•\tHistogram for Size\n",
    "#Note down your observations for the plots made above. Which of these seem to have outliers?"
   ]
  },
  {
   "cell_type": "code",
   "execution_count": 69,
   "metadata": {
    "colab": {
     "base_uri": "https://localhost:8080/",
     "height": 282
    },
    "colab_type": "code",
    "id": "JlmI_WYS1U-S",
    "outputId": "99ce0d54-54b5-41a0-efc9-c68332fa45db"
   },
   "outputs": [
    {
     "data": {
      "text/plain": [
       "<matplotlib.axes._subplots.AxesSubplot at 0x2e5fc6be908>"
      ]
     },
     "execution_count": 69,
     "metadata": {},
     "output_type": "execute_result"
    },
    {
     "data": {
      "image/png": "[encoded data removed]",
      "text/plain": [
       "<Figure size 432x288 with 1 Axes>"
      ]
     },
     "metadata": {
      "needs_background": "light"
     },
     "output_type": "display_data"
    }
   ],
   "source": [
    "data4.Size.plot.hist()"
   ]
  },
  {
   "cell_type": "code",
   "execution_count": 70,
   "metadata": {
    "colab": {},
    "colab_type": "code",
    "id": "ZgqPNRvt1bRi"
   },
   "outputs": [],
   "source": [
    "#7. Outlier treatment: \n",
    "#1.\tPrice: From the box plot, it seems like there are some apps with very high price. \n",
    "#A price of $200 for an application on the Play Store is very high and suspicious!\n",
    "#1.\tCheck out the records with very high price\n",
    "#1.\tIs 200 indeed a high price?"
   ]
  },
  {
   "cell_type": "code",
   "execution_count": 71,
   "metadata": {
    "colab": {
     "base_uri": "https://localhost:8080/",
     "height": 153
    },
    "colab_type": "code",
    "id": "k0bGhjkg2e2A",
    "outputId": "cba283a1-9338-414a-fbc9-798b3b0268ab"
   },
   "outputs": [
    {
     "data": {
      "text/plain": [
       "0.10    0.00\n",
       "0.25    0.00\n",
       "0.50    0.00\n",
       "0.70    0.00\n",
       "0.90    0.00\n",
       "0.95    1.99\n",
       "0.99    9.99\n",
       "Name: Price, dtype: float64"
      ]
     },
     "execution_count": 71,
     "metadata": {},
     "output_type": "execute_result"
    }
   ],
   "source": [
    "data4.Price.quantile([0.1, 0.25, 0.5, 0.70, 0.9, 0.95, 0.99])"
   ]
  },
  {
   "cell_type": "code",
   "execution_count": 72,
   "metadata": {
    "colab": {},
    "colab_type": "code",
    "id": "NgpKbI-82l_F"
   },
   "outputs": [],
   "source": [
    "#2.\tDrop these as most seem to be junk apps"
   ]
  },
  {
   "cell_type": "code",
   "execution_count": 73,
   "metadata": {
    "colab": {},
    "colab_type": "code",
    "id": "MN3FPkh820Yf"
   },
   "outputs": [],
   "source": [
    "data5 = data4[data4.Price < 200].copy()"
   ]
  },
  {
   "cell_type": "code",
   "execution_count": 74,
   "metadata": {
    "colab": {
     "base_uri": "https://localhost:8080/",
     "height": 323
    },
    "colab_type": "code",
    "id": "p64CbAr03EQk",
    "outputId": "e357e5d5-c357-48dc-8986-d40b59a52dd3"
   },
   "outputs": [
    {
     "name": "stdout",
     "output_type": "stream",
     "text": [
      "<class 'pandas.core.frame.DataFrame'>\n",
      "Int64Index: 7702 entries, 0 to 10840\n",
      "Data columns (total 13 columns):\n",
      "App               7702 non-null object\n",
      "Category          7702 non-null object\n",
      "Rating            7702 non-null float64\n",
      "Reviews           7702 non-null int32\n",
      "Size              7702 non-null int32\n",
      "Installs          7702 non-null int32\n",
      "Type              7702 non-null object\n",
      "Price             7702 non-null float64\n",
      "Content Rating    7702 non-null object\n",
      "Genres            7702 non-null object\n",
      "Last Updated      7702 non-null object\n",
      "Current Ver       7702 non-null object\n",
      "Android Ver       7702 non-null object\n",
      "dtypes: float64(2), int32(3), object(8)\n",
      "memory usage: 752.1+ KB\n"
     ]
    }
   ],
   "source": [
    "data5.info()"
   ]
  },
  {
   "cell_type": "code",
   "execution_count": 75,
   "metadata": {
    "colab": {
     "base_uri": "https://localhost:8080/",
     "height": 296
    },
    "colab_type": "code",
    "id": "3UOXGKzn3LBc",
    "outputId": "1ebc4a65-016d-4909-ef20-8b6a16b575f9"
   },
   "outputs": [
    {
     "data": {
      "text/plain": [
       "<matplotlib.axes._subplots.AxesSubplot at 0x2e5fc75c788>"
      ]
     },
     "execution_count": 75,
     "metadata": {},
     "output_type": "execute_result"
    },
    {
     "data": {
      "image/png": "[encoded data removed]",
      "text/plain": [
       "<Figure size 432x288 with 1 Axes>"
      ]
     },
     "metadata": {
      "needs_background": "light"
     },
     "output_type": "display_data"
    }
   ],
   "source": [
    "sns.boxplot(data5.Price)"
   ]
  },
  {
   "cell_type": "code",
   "execution_count": 76,
   "metadata": {
    "colab": {},
    "colab_type": "code",
    "id": "n9qyuOkk3S-w"
   },
   "outputs": [],
   "source": [
    "#2.\tReviews: Very few apps have very high number of reviews. \n",
    "#These are all star apps that don’t help with the analysis and, in fact, will skew it. \n",
    "#Drop records having more than 2 million reviews."
   ]
  },
  {
   "cell_type": "code",
   "execution_count": 77,
   "metadata": {
    "colab": {},
    "colab_type": "code",
    "id": "_fYbCMjj3oL2"
   },
   "outputs": [],
   "source": [
    "data6 = data5[data5.Reviews < 2000000].copy()"
   ]
  },
  {
   "cell_type": "code",
   "execution_count": 78,
   "metadata": {
    "colab": {
     "base_uri": "https://localhost:8080/",
     "height": 323
    },
    "colab_type": "code",
    "id": "Vo2-aWnr4NR9",
    "outputId": "c37fed2e-5abf-4515-c244-842447e312b0"
   },
   "outputs": [
    {
     "name": "stdout",
     "output_type": "stream",
     "text": [
      "<class 'pandas.core.frame.DataFrame'>\n",
      "Int64Index: 7483 entries, 0 to 10840\n",
      "Data columns (total 13 columns):\n",
      "App               7483 non-null object\n",
      "Category          7483 non-null object\n",
      "Rating            7483 non-null float64\n",
      "Reviews           7483 non-null int32\n",
      "Size              7483 non-null int32\n",
      "Installs          7483 non-null int32\n",
      "Type              7483 non-null object\n",
      "Price             7483 non-null float64\n",
      "Content Rating    7483 non-null object\n",
      "Genres            7483 non-null object\n",
      "Last Updated      7483 non-null object\n",
      "Current Ver       7483 non-null object\n",
      "Android Ver       7483 non-null object\n",
      "dtypes: float64(2), int32(3), object(8)\n",
      "memory usage: 730.8+ KB\n"
     ]
    }
   ],
   "source": [
    "data6.info()"
   ]
  },
  {
   "cell_type": "code",
   "execution_count": 79,
   "metadata": {
    "colab": {},
    "colab_type": "code",
    "id": "8t_Rj5HD4QQs"
   },
   "outputs": [],
   "source": [
    "#3.\tInstalls:  There seems to be some outliers in this field too. \n",
    "#Apps having very high number of installs should be dropped from the analysis.\n",
    "#1.\tFind out the different percentiles – 10, 25, 50, 70, 90, 95, 99\n",
    "#2.\tDecide a threshold as cutoff for outlier and drop records having values more than that"
   ]
  },
  {
   "cell_type": "code",
   "execution_count": 80,
   "metadata": {
    "colab": {
     "base_uri": "https://localhost:8080/",
     "height": 153
    },
    "colab_type": "code",
    "id": "Et8LufEB4pFU",
    "outputId": "69cfa6b1-b4d7-4452-dc3b-e30c72ee0eef"
   },
   "outputs": [
    {
     "data": {
      "text/plain": [
       "0.10        1000.0\n",
       "0.25       10000.0\n",
       "0.50      100000.0\n",
       "0.70     1000000.0\n",
       "0.90    10000000.0\n",
       "0.95    10000000.0\n",
       "0.99    50000000.0\n",
       "Name: Installs, dtype: float64"
      ]
     },
     "execution_count": 80,
     "metadata": {},
     "output_type": "execute_result"
    }
   ],
   "source": [
    "data6.Installs.quantile([0.1, 0.25, 0.5, 0.70, 0.9, 0.95, 0.99])"
   ]
  },
  {
   "cell_type": "code",
   "execution_count": 81,
   "metadata": {
    "colab": {},
    "colab_type": "code",
    "id": "1piOohZC4x8_"
   },
   "outputs": [],
   "source": [
    "data7 = data6[data6.Installs < 10000000].copy()"
   ]
  },
  {
   "cell_type": "code",
   "execution_count": 82,
   "metadata": {
    "colab": {
     "base_uri": "https://localhost:8080/",
     "height": 323
    },
    "colab_type": "code",
    "id": "2mcBxHl15Neg",
    "outputId": "236ae9e7-7170-4630-e106-1064d349b991"
   },
   "outputs": [
    {
     "name": "stdout",
     "output_type": "stream",
     "text": [
      "<class 'pandas.core.frame.DataFrame'>\n",
      "Int64Index: 6489 entries, 0 to 10837\n",
      "Data columns (total 13 columns):\n",
      "App               6489 non-null object\n",
      "Category          6489 non-null object\n",
      "Rating            6489 non-null float64\n",
      "Reviews           6489 non-null int32\n",
      "Size              6489 non-null int32\n",
      "Installs          6489 non-null int32\n",
      "Type              6489 non-null object\n",
      "Price             6489 non-null float64\n",
      "Content Rating    6489 non-null object\n",
      "Genres            6489 non-null object\n",
      "Last Updated      6489 non-null object\n",
      "Current Ver       6489 non-null object\n",
      "Android Ver       6489 non-null object\n",
      "dtypes: float64(2), int32(3), object(8)\n",
      "memory usage: 633.7+ KB\n"
     ]
    }
   ],
   "source": [
    "data7.info()"
   ]
  },
  {
   "cell_type": "code",
   "execution_count": 83,
   "metadata": {
    "colab": {},
    "colab_type": "code",
    "id": "vQfhQOLG5Qfz"
   },
   "outputs": [],
   "source": [
    "#8. Bivariate analysis: Let’s look at how the available predictors relate to the variable of interest, \n",
    "#i.e., our target variable rating. Make scatter plots (for numeric features) and box plots (for character features)\n",
    "#to assess the relations between rating and the other features.\n",
    "#1.\tMake scatter plot/joinplot for Rating vs. Price\n",
    "#1.\tWhat pattern do you observe? Does rating increase with price?"
   ]
  },
  {
   "cell_type": "code",
   "execution_count": 84,
   "metadata": {
    "colab": {
     "base_uri": "https://localhost:8080/",
     "height": 396
    },
    "colab_type": "code",
    "id": "wvtxVF3r6VD4",
    "outputId": "a4836438-a743-4270-f8ca-145c3cfd8c69"
   },
   "outputs": [
    {
     "data": {
      "text/plain": [
       "<seaborn.axisgrid.FacetGrid at 0x2e5fc7cfac8>"
      ]
     },
     "execution_count": 84,
     "metadata": {},
     "output_type": "execute_result"
    },
    {
     "data": {
      "text/plain": [
       "<Figure size 1440x864 with 0 Axes>"
      ]
     },
     "metadata": {},
     "output_type": "display_data"
    },
    {
     "data": {
      "image/png": "[encoded data removed]",
      "text/plain": [
       "<Figure size 360x360 with 1 Axes>"
      ]
     },
     "metadata": {
      "needs_background": "light"
     },
     "output_type": "display_data"
    }
   ],
   "source": [
    "plt.figure(figsize=[20,12])\n",
    "sns.lmplot('Rating','Price',data=data7,fit_reg=False)"
   ]
  },
  {
   "cell_type": "code",
   "execution_count": 85,
   "metadata": {
    "colab": {},
    "colab_type": "code",
    "id": "6v3diggS6tKV"
   },
   "outputs": [],
   "source": [
    "#2.\tMake scatter plot/joinplot for Rating vs. Size\n",
    "#1.\tAre heavier apps rated better?"
   ]
  },
  {
   "cell_type": "code",
   "execution_count": 86,
   "metadata": {
    "colab": {
     "base_uri": "https://localhost:8080/",
     "height": 396
    },
    "colab_type": "code",
    "id": "KGyuyOfn8tL-",
    "outputId": "a9b1eb0f-010d-49b4-cb1e-4e5442dbf720"
   },
   "outputs": [
    {
     "data": {
      "text/plain": [
       "<seaborn.axisgrid.FacetGrid at 0x2e5fc7d5a88>"
      ]
     },
     "execution_count": 86,
     "metadata": {},
     "output_type": "execute_result"
    },
    {
     "data": {
      "text/plain": [
       "<Figure size 1440x864 with 0 Axes>"
      ]
     },
     "metadata": {},
     "output_type": "display_data"
    },
    {
     "data": {
      "image/png": "[encoded data removed]",
      "text/plain": [
       "<Figure size 360x360 with 1 Axes>"
      ]
     },
     "metadata": {
      "needs_background": "light"
     },
     "output_type": "display_data"
    }
   ],
   "source": [
    "plt.figure(figsize=[20,12])\n",
    "sns.lmplot('Rating','Size',data=data7,fit_reg=False)"
   ]
  },
  {
   "cell_type": "code",
   "execution_count": 87,
   "metadata": {
    "colab": {},
    "colab_type": "code",
    "id": "Q4zLeOJV8zoA"
   },
   "outputs": [],
   "source": [
    "#3.\tMake scatter plot/joinplot for Rating vs. Reviews\n",
    "#1.\tDoes more review mean a better rating always?"
   ]
  },
  {
   "cell_type": "code",
   "execution_count": 88,
   "metadata": {
    "colab": {
     "base_uri": "https://localhost:8080/",
     "height": 396
    },
    "colab_type": "code",
    "id": "0BAeq6L_9Cmw",
    "outputId": "933a56a1-42d4-4dea-b4a1-947dab941b27"
   },
   "outputs": [
    {
     "data": {
      "text/plain": [
       "<seaborn.axisgrid.FacetGrid at 0x2e5fc8b8148>"
      ]
     },
     "execution_count": 88,
     "metadata": {},
     "output_type": "execute_result"
    },
    {
     "data": {
      "text/plain": [
       "<Figure size 1440x864 with 0 Axes>"
      ]
     },
     "metadata": {},
     "output_type": "display_data"
    },
    {
     "data": {
      "image/png": "[encoded data removed]",
      "text/plain": [
       "<Figure size 360x360 with 1 Axes>"
      ]
     },
     "metadata": {
      "needs_background": "light"
     },
     "output_type": "display_data"
    }
   ],
   "source": [
    "plt.figure(figsize=[20,12])\n",
    "sns.lmplot('Rating','Reviews',data=data7,fit_reg=False)"
   ]
  },
  {
   "cell_type": "code",
   "execution_count": 89,
   "metadata": {
    "colab": {},
    "colab_type": "code",
    "id": "XLx3dDfn9K7Y"
   },
   "outputs": [],
   "source": [
    "#4.\tMake boxplot for Rating vs. Content Rating\n",
    "#1.\tIs there any difference in the ratings? Are some types liked better?"
   ]
  },
  {
   "cell_type": "code",
   "execution_count": 90,
   "metadata": {
    "colab": {
     "base_uri": "https://localhost:8080/",
     "height": 414
    },
    "colab_type": "code",
    "id": "Vc9BpVgB9YeP",
    "outputId": "49504abf-cda6-4e77-c5a1-d334632ecb5c"
   },
   "outputs": [
    {
     "data": {
      "text/plain": [
       "<matplotlib.axes._subplots.AxesSubplot at 0x2e5fc8df248>"
      ]
     },
     "execution_count": 90,
     "metadata": {},
     "output_type": "execute_result"
    },
    {
     "data": {
      "image/png": "[encoded data removed]",
      "text/plain": [
       "<Figure size 864x432 with 1 Axes>"
      ]
     },
     "metadata": {
      "needs_background": "light"
     },
     "output_type": "display_data"
    }
   ],
   "source": [
    "plt.figure(figsize=[12,6])\n",
    "sns.boxplot(\"Content Rating\", \"Rating\", data=data7)"
   ]
  },
  {
   "cell_type": "code",
   "execution_count": 91,
   "metadata": {
    "colab": {},
    "colab_type": "code",
    "id": "WmAmL7yp9dOC"
   },
   "outputs": [],
   "source": [
    "#5.\tMake boxplot for Ratings vs. Category\n",
    "#1.\tWhich genre has the best ratings?\n",
    "#For each of the plots above, note down your observation."
   ]
  },
  {
   "cell_type": "code",
   "execution_count": 92,
   "metadata": {
    "colab": {
     "base_uri": "https://localhost:8080/",
     "height": 414
    },
    "colab_type": "code",
    "id": "uXfd8h5P9cs-",
    "outputId": "7cc42c11-a982-40c2-e747-f86927090f87"
   },
   "outputs": [
    {
     "data": {
      "text/plain": [
       "<matplotlib.axes._subplots.AxesSubplot at 0x2e5fc8eb348>"
      ]
     },
     "execution_count": 92,
     "metadata": {},
     "output_type": "execute_result"
    },
    {
     "data": {
      "image/png": "[encoded data removed]",
      "text/plain": [
       "<Figure size 864x432 with 1 Axes>"
      ]
     },
     "metadata": {
      "needs_background": "light"
     },
     "output_type": "display_data"
    }
   ],
   "source": [
    "plt.figure(figsize=[12,6])\n",
    "sns.boxplot(\"Category\", \"Rating\", data=data7)"
   ]
  },
  {
   "cell_type": "code",
   "execution_count": 93,
   "metadata": {
    "colab": {},
    "colab_type": "code",
    "id": "L98wMZrp-YD-"
   },
   "outputs": [],
   "source": [
    "#9. Data preprocessing\n",
    "#For the steps below, create a copy of the dataframe to make all the edits. Name it inp1.\n",
    "#1.\tReviews and Install have some values that are still relatively very high. Before building a linear regression model\n",
    "#, you need to reduce the skew. Apply log transformation (np.log1p) to Reviews and Installs."
   ]
  },
  {
   "cell_type": "code",
   "execution_count": 94,
   "metadata": {
    "colab": {},
    "colab_type": "code",
    "id": "Morw5205_0i2"
   },
   "outputs": [],
   "source": [
    "inp1 = data7.copy()"
   ]
  },
  {
   "cell_type": "code",
   "execution_count": 95,
   "metadata": {
    "colab": {
     "base_uri": "https://localhost:8080/",
     "height": 323
    },
    "colab_type": "code",
    "id": "WgEpe8NJJNfQ",
    "outputId": "832e8593-a804-4162-b43d-4bb5be30c0f8"
   },
   "outputs": [
    {
     "name": "stdout",
     "output_type": "stream",
     "text": [
      "<class 'pandas.core.frame.DataFrame'>\n",
      "Int64Index: 6489 entries, 0 to 10837\n",
      "Data columns (total 13 columns):\n",
      "App               6489 non-null object\n",
      "Category          6489 non-null object\n",
      "Rating            6489 non-null float64\n",
      "Reviews           6489 non-null int32\n",
      "Size              6489 non-null int32\n",
      "Installs          6489 non-null int32\n",
      "Type              6489 non-null object\n",
      "Price             6489 non-null float64\n",
      "Content Rating    6489 non-null object\n",
      "Genres            6489 non-null object\n",
      "Last Updated      6489 non-null object\n",
      "Current Ver       6489 non-null object\n",
      "Android Ver       6489 non-null object\n",
      "dtypes: float64(2), int32(3), object(8)\n",
      "memory usage: 633.7+ KB\n"
     ]
    }
   ],
   "source": [
    "inp1.info()"
   ]
  },
  {
   "cell_type": "code",
   "execution_count": 96,
   "metadata": {
    "colab": {
     "base_uri": "https://localhost:8080/",
     "height": 564
    },
    "colab_type": "code",
    "id": "wtMTGBklJYxd",
    "outputId": "c9b63002-b557-48f8-b805-dd7e2480535b"
   },
   "outputs": [
    {
     "data": {
      "text/html": [
       "<div>\n",
       "<style scoped>\n",
       "    .dataframe tbody tr th:only-of-type {\n",
       "        vertical-align: middle;\n",
       "    }\n",
       "\n",
       "    .dataframe tbody tr th {\n",
       "        vertical-align: top;\n",
       "    }\n",
       "\n",
       "    .dataframe thead th {\n",
       "        text-align: right;\n",
       "    }\n",
       "</style>\n",
       "<table border=\"1\" class=\"dataframe\">\n",
       "  <thead>\n",
       "    <tr style=\"text-align: right;\">\n",
       "      <th></th>\n",
       "      <th>App</th>\n",
       "      <th>Category</th>\n",
       "      <th>Rating</th>\n",
       "      <th>Reviews</th>\n",
       "      <th>Size</th>\n",
       "      <th>Installs</th>\n",
       "      <th>Type</th>\n",
       "      <th>Price</th>\n",
       "      <th>Content Rating</th>\n",
       "      <th>Genres</th>\n",
       "      <th>Last Updated</th>\n",
       "      <th>Current Ver</th>\n",
       "      <th>Android Ver</th>\n",
       "    </tr>\n",
       "  </thead>\n",
       "  <tbody>\n",
       "    <tr>\n",
       "      <td>0</td>\n",
       "      <td>Photo Editor &amp; Candy Camera &amp; Grid &amp; ScrapBook</td>\n",
       "      <td>ART_AND_DESIGN</td>\n",
       "      <td>4.1</td>\n",
       "      <td>159</td>\n",
       "      <td>19000</td>\n",
       "      <td>10000</td>\n",
       "      <td>Free</td>\n",
       "      <td>0.0</td>\n",
       "      <td>Everyone</td>\n",
       "      <td>Art &amp; Design</td>\n",
       "      <td>January 7, 2018</td>\n",
       "      <td>1.0.0</td>\n",
       "      <td>4.0.3 and up</td>\n",
       "    </tr>\n",
       "    <tr>\n",
       "      <td>1</td>\n",
       "      <td>Coloring book moana</td>\n",
       "      <td>ART_AND_DESIGN</td>\n",
       "      <td>3.9</td>\n",
       "      <td>967</td>\n",
       "      <td>14000</td>\n",
       "      <td>500000</td>\n",
       "      <td>Free</td>\n",
       "      <td>0.0</td>\n",
       "      <td>Everyone</td>\n",
       "      <td>Art &amp; Design;Pretend Play</td>\n",
       "      <td>January 15, 2018</td>\n",
       "      <td>2.0.0</td>\n",
       "      <td>4.0.3 and up</td>\n",
       "    </tr>\n",
       "    <tr>\n",
       "      <td>2</td>\n",
       "      <td>U Launcher Lite – FREE Live Cool Themes, Hide ...</td>\n",
       "      <td>ART_AND_DESIGN</td>\n",
       "      <td>4.7</td>\n",
       "      <td>87510</td>\n",
       "      <td>87000</td>\n",
       "      <td>5000000</td>\n",
       "      <td>Free</td>\n",
       "      <td>0.0</td>\n",
       "      <td>Everyone</td>\n",
       "      <td>Art &amp; Design</td>\n",
       "      <td>August 1, 2018</td>\n",
       "      <td>1.2.4</td>\n",
       "      <td>4.0.3 and up</td>\n",
       "    </tr>\n",
       "    <tr>\n",
       "      <td>4</td>\n",
       "      <td>Pixel Draw - Number Art Coloring Book</td>\n",
       "      <td>ART_AND_DESIGN</td>\n",
       "      <td>4.3</td>\n",
       "      <td>967</td>\n",
       "      <td>28000</td>\n",
       "      <td>100000</td>\n",
       "      <td>Free</td>\n",
       "      <td>0.0</td>\n",
       "      <td>Everyone</td>\n",
       "      <td>Art &amp; Design;Creativity</td>\n",
       "      <td>June 20, 2018</td>\n",
       "      <td>1.1</td>\n",
       "      <td>4.4 and up</td>\n",
       "    </tr>\n",
       "    <tr>\n",
       "      <td>5</td>\n",
       "      <td>Paper flowers instructions</td>\n",
       "      <td>ART_AND_DESIGN</td>\n",
       "      <td>4.4</td>\n",
       "      <td>167</td>\n",
       "      <td>56000</td>\n",
       "      <td>50000</td>\n",
       "      <td>Free</td>\n",
       "      <td>0.0</td>\n",
       "      <td>Everyone</td>\n",
       "      <td>Art &amp; Design</td>\n",
       "      <td>March 26, 2017</td>\n",
       "      <td>1.0</td>\n",
       "      <td>2.3 and up</td>\n",
       "    </tr>\n",
       "  </tbody>\n",
       "</table>\n",
       "</div>"
      ],
      "text/plain": [
       "                                                 App        Category  Rating  \\\n",
       "0     Photo Editor & Candy Camera & Grid & ScrapBook  ART_AND_DESIGN     4.1   \n",
       "1                                Coloring book moana  ART_AND_DESIGN     3.9   \n",
       "2  U Launcher Lite – FREE Live Cool Themes, Hide ...  ART_AND_DESIGN     4.7   \n",
       "4              Pixel Draw - Number Art Coloring Book  ART_AND_DESIGN     4.3   \n",
       "5                         Paper flowers instructions  ART_AND_DESIGN     4.4   \n",
       "\n",
       "   Reviews   Size  Installs  Type  Price Content Rating  \\\n",
       "0      159  19000     10000  Free    0.0       Everyone   \n",
       "1      967  14000    500000  Free    0.0       Everyone   \n",
       "2    87510  87000   5000000  Free    0.0       Everyone   \n",
       "4      967  28000    100000  Free    0.0       Everyone   \n",
       "5      167  56000     50000  Free    0.0       Everyone   \n",
       "\n",
       "                      Genres      Last Updated Current Ver   Android Ver  \n",
       "0               Art & Design   January 7, 2018       1.0.0  4.0.3 and up  \n",
       "1  Art & Design;Pretend Play  January 15, 2018       2.0.0  4.0.3 and up  \n",
       "2               Art & Design    August 1, 2018       1.2.4  4.0.3 and up  \n",
       "4    Art & Design;Creativity     June 20, 2018         1.1    4.4 and up  \n",
       "5               Art & Design    March 26, 2017         1.0    2.3 and up  "
      ]
     },
     "execution_count": 96,
     "metadata": {},
     "output_type": "execute_result"
    }
   ],
   "source": [
    "inp1.head()"
   ]
  },
  {
   "cell_type": "code",
   "execution_count": 97,
   "metadata": {
    "colab": {},
    "colab_type": "code",
    "id": "LjRft1DkJk3C"
   },
   "outputs": [],
   "source": [
    "inp1['Reviews'] = np.log1p(inp1['Reviews'])"
   ]
  },
  {
   "cell_type": "code",
   "execution_count": 98,
   "metadata": {
    "colab": {},
    "colab_type": "code",
    "id": "J4IdI5o1Ko8w"
   },
   "outputs": [],
   "source": [
    "inp1['Installs'] = np.log1p(inp1['Installs'])"
   ]
  },
  {
   "cell_type": "code",
   "execution_count": 99,
   "metadata": {
    "colab": {},
    "colab_type": "code",
    "id": "ePEjsq_tnjaW"
   },
   "outputs": [],
   "source": [
    "inp1['Size'] = np.log1p(inp1['Size'])"
   ]
  },
  {
   "cell_type": "code",
   "execution_count": 100,
   "metadata": {
    "colab": {
     "base_uri": "https://localhost:8080/",
     "height": 564
    },
    "colab_type": "code",
    "id": "np8ElNcuKGHJ",
    "outputId": "400ec839-75fc-4333-aec9-9c01d623630c"
   },
   "outputs": [
    {
     "data": {
      "text/html": [
       "<div>\n",
       "<style scoped>\n",
       "    .dataframe tbody tr th:only-of-type {\n",
       "        vertical-align: middle;\n",
       "    }\n",
       "\n",
       "    .dataframe tbody tr th {\n",
       "        vertical-align: top;\n",
       "    }\n",
       "\n",
       "    .dataframe thead th {\n",
       "        text-align: right;\n",
       "    }\n",
       "</style>\n",
       "<table border=\"1\" class=\"dataframe\">\n",
       "  <thead>\n",
       "    <tr style=\"text-align: right;\">\n",
       "      <th></th>\n",
       "      <th>App</th>\n",
       "      <th>Category</th>\n",
       "      <th>Rating</th>\n",
       "      <th>Reviews</th>\n",
       "      <th>Size</th>\n",
       "      <th>Installs</th>\n",
       "      <th>Type</th>\n",
       "      <th>Price</th>\n",
       "      <th>Content Rating</th>\n",
       "      <th>Genres</th>\n",
       "      <th>Last Updated</th>\n",
       "      <th>Current Ver</th>\n",
       "      <th>Android Ver</th>\n",
       "    </tr>\n",
       "  </thead>\n",
       "  <tbody>\n",
       "    <tr>\n",
       "      <td>0</td>\n",
       "      <td>Photo Editor &amp; Candy Camera &amp; Grid &amp; ScrapBook</td>\n",
       "      <td>ART_AND_DESIGN</td>\n",
       "      <td>4.1</td>\n",
       "      <td>5.075174</td>\n",
       "      <td>9.852247</td>\n",
       "      <td>9.210440</td>\n",
       "      <td>Free</td>\n",
       "      <td>0.0</td>\n",
       "      <td>Everyone</td>\n",
       "      <td>Art &amp; Design</td>\n",
       "      <td>January 7, 2018</td>\n",
       "      <td>1.0.0</td>\n",
       "      <td>4.0.3 and up</td>\n",
       "    </tr>\n",
       "    <tr>\n",
       "      <td>1</td>\n",
       "      <td>Coloring book moana</td>\n",
       "      <td>ART_AND_DESIGN</td>\n",
       "      <td>3.9</td>\n",
       "      <td>6.875232</td>\n",
       "      <td>9.546884</td>\n",
       "      <td>13.122365</td>\n",
       "      <td>Free</td>\n",
       "      <td>0.0</td>\n",
       "      <td>Everyone</td>\n",
       "      <td>Art &amp; Design;Pretend Play</td>\n",
       "      <td>January 15, 2018</td>\n",
       "      <td>2.0.0</td>\n",
       "      <td>4.0.3 and up</td>\n",
       "    </tr>\n",
       "    <tr>\n",
       "      <td>2</td>\n",
       "      <td>U Launcher Lite – FREE Live Cool Themes, Hide ...</td>\n",
       "      <td>ART_AND_DESIGN</td>\n",
       "      <td>4.7</td>\n",
       "      <td>11.379520</td>\n",
       "      <td>11.373675</td>\n",
       "      <td>15.424949</td>\n",
       "      <td>Free</td>\n",
       "      <td>0.0</td>\n",
       "      <td>Everyone</td>\n",
       "      <td>Art &amp; Design</td>\n",
       "      <td>August 1, 2018</td>\n",
       "      <td>1.2.4</td>\n",
       "      <td>4.0.3 and up</td>\n",
       "    </tr>\n",
       "    <tr>\n",
       "      <td>4</td>\n",
       "      <td>Pixel Draw - Number Art Coloring Book</td>\n",
       "      <td>ART_AND_DESIGN</td>\n",
       "      <td>4.3</td>\n",
       "      <td>6.875232</td>\n",
       "      <td>10.239996</td>\n",
       "      <td>11.512935</td>\n",
       "      <td>Free</td>\n",
       "      <td>0.0</td>\n",
       "      <td>Everyone</td>\n",
       "      <td>Art &amp; Design;Creativity</td>\n",
       "      <td>June 20, 2018</td>\n",
       "      <td>1.1</td>\n",
       "      <td>4.4 and up</td>\n",
       "    </tr>\n",
       "    <tr>\n",
       "      <td>5</td>\n",
       "      <td>Paper flowers instructions</td>\n",
       "      <td>ART_AND_DESIGN</td>\n",
       "      <td>4.4</td>\n",
       "      <td>5.123964</td>\n",
       "      <td>10.933125</td>\n",
       "      <td>10.819798</td>\n",
       "      <td>Free</td>\n",
       "      <td>0.0</td>\n",
       "      <td>Everyone</td>\n",
       "      <td>Art &amp; Design</td>\n",
       "      <td>March 26, 2017</td>\n",
       "      <td>1.0</td>\n",
       "      <td>2.3 and up</td>\n",
       "    </tr>\n",
       "  </tbody>\n",
       "</table>\n",
       "</div>"
      ],
      "text/plain": [
       "                                                 App        Category  Rating  \\\n",
       "0     Photo Editor & Candy Camera & Grid & ScrapBook  ART_AND_DESIGN     4.1   \n",
       "1                                Coloring book moana  ART_AND_DESIGN     3.9   \n",
       "2  U Launcher Lite – FREE Live Cool Themes, Hide ...  ART_AND_DESIGN     4.7   \n",
       "4              Pixel Draw - Number Art Coloring Book  ART_AND_DESIGN     4.3   \n",
       "5                         Paper flowers instructions  ART_AND_DESIGN     4.4   \n",
       "\n",
       "     Reviews       Size   Installs  Type  Price Content Rating  \\\n",
       "0   5.075174   9.852247   9.210440  Free    0.0       Everyone   \n",
       "1   6.875232   9.546884  13.122365  Free    0.0       Everyone   \n",
       "2  11.379520  11.373675  15.424949  Free    0.0       Everyone   \n",
       "4   6.875232  10.239996  11.512935  Free    0.0       Everyone   \n",
       "5   5.123964  10.933125  10.819798  Free    0.0       Everyone   \n",
       "\n",
       "                      Genres      Last Updated Current Ver   Android Ver  \n",
       "0               Art & Design   January 7, 2018       1.0.0  4.0.3 and up  \n",
       "1  Art & Design;Pretend Play  January 15, 2018       2.0.0  4.0.3 and up  \n",
       "2               Art & Design    August 1, 2018       1.2.4  4.0.3 and up  \n",
       "4    Art & Design;Creativity     June 20, 2018         1.1    4.4 and up  \n",
       "5               Art & Design    March 26, 2017         1.0    2.3 and up  "
      ]
     },
     "execution_count": 100,
     "metadata": {},
     "output_type": "execute_result"
    }
   ],
   "source": [
    "inp1.head()"
   ]
  },
  {
   "cell_type": "code",
   "execution_count": 101,
   "metadata": {
    "colab": {},
    "colab_type": "code",
    "id": "qlA0bVQ0LY_V"
   },
   "outputs": [],
   "source": [
    "#2.\tDrop columns App, Last Updated, Current Ver, and Android Ver. These variables are not useful for our task."
   ]
  },
  {
   "cell_type": "code",
   "execution_count": 102,
   "metadata": {
    "colab": {},
    "colab_type": "code",
    "id": "23braR_aLeFa"
   },
   "outputs": [],
   "source": [
    "cols_to_drop = ['App', 'Last Updated', 'Current Ver', 'Android Ver']"
   ]
  },
  {
   "cell_type": "code",
   "execution_count": 103,
   "metadata": {
    "colab": {},
    "colab_type": "code",
    "id": "ruklyr7KKMxW"
   },
   "outputs": [],
   "source": [
    "inp1_1 = inp1.drop(cols_to_drop, axis=1).copy()"
   ]
  },
  {
   "cell_type": "code",
   "execution_count": 104,
   "metadata": {
    "colab": {
     "base_uri": "https://localhost:8080/",
     "height": 204
    },
    "colab_type": "code",
    "id": "rs_iRB9WMBFQ",
    "outputId": "4e148c8b-bb9e-49cb-a73c-d48cac2b5563"
   },
   "outputs": [
    {
     "data": {
      "text/html": [
       "<div>\n",
       "<style scoped>\n",
       "    .dataframe tbody tr th:only-of-type {\n",
       "        vertical-align: middle;\n",
       "    }\n",
       "\n",
       "    .dataframe tbody tr th {\n",
       "        vertical-align: top;\n",
       "    }\n",
       "\n",
       "    .dataframe thead th {\n",
       "        text-align: right;\n",
       "    }\n",
       "</style>\n",
       "<table border=\"1\" class=\"dataframe\">\n",
       "  <thead>\n",
       "    <tr style=\"text-align: right;\">\n",
       "      <th></th>\n",
       "      <th>Category</th>\n",
       "      <th>Rating</th>\n",
       "      <th>Reviews</th>\n",
       "      <th>Size</th>\n",
       "      <th>Installs</th>\n",
       "      <th>Type</th>\n",
       "      <th>Price</th>\n",
       "      <th>Content Rating</th>\n",
       "      <th>Genres</th>\n",
       "    </tr>\n",
       "  </thead>\n",
       "  <tbody>\n",
       "    <tr>\n",
       "      <td>0</td>\n",
       "      <td>ART_AND_DESIGN</td>\n",
       "      <td>4.1</td>\n",
       "      <td>5.075174</td>\n",
       "      <td>9.852247</td>\n",
       "      <td>9.210440</td>\n",
       "      <td>Free</td>\n",
       "      <td>0.0</td>\n",
       "      <td>Everyone</td>\n",
       "      <td>Art &amp; Design</td>\n",
       "    </tr>\n",
       "    <tr>\n",
       "      <td>1</td>\n",
       "      <td>ART_AND_DESIGN</td>\n",
       "      <td>3.9</td>\n",
       "      <td>6.875232</td>\n",
       "      <td>9.546884</td>\n",
       "      <td>13.122365</td>\n",
       "      <td>Free</td>\n",
       "      <td>0.0</td>\n",
       "      <td>Everyone</td>\n",
       "      <td>Art &amp; Design;Pretend Play</td>\n",
       "    </tr>\n",
       "    <tr>\n",
       "      <td>2</td>\n",
       "      <td>ART_AND_DESIGN</td>\n",
       "      <td>4.7</td>\n",
       "      <td>11.379520</td>\n",
       "      <td>11.373675</td>\n",
       "      <td>15.424949</td>\n",
       "      <td>Free</td>\n",
       "      <td>0.0</td>\n",
       "      <td>Everyone</td>\n",
       "      <td>Art &amp; Design</td>\n",
       "    </tr>\n",
       "    <tr>\n",
       "      <td>4</td>\n",
       "      <td>ART_AND_DESIGN</td>\n",
       "      <td>4.3</td>\n",
       "      <td>6.875232</td>\n",
       "      <td>10.239996</td>\n",
       "      <td>11.512935</td>\n",
       "      <td>Free</td>\n",
       "      <td>0.0</td>\n",
       "      <td>Everyone</td>\n",
       "      <td>Art &amp; Design;Creativity</td>\n",
       "    </tr>\n",
       "    <tr>\n",
       "      <td>5</td>\n",
       "      <td>ART_AND_DESIGN</td>\n",
       "      <td>4.4</td>\n",
       "      <td>5.123964</td>\n",
       "      <td>10.933125</td>\n",
       "      <td>10.819798</td>\n",
       "      <td>Free</td>\n",
       "      <td>0.0</td>\n",
       "      <td>Everyone</td>\n",
       "      <td>Art &amp; Design</td>\n",
       "    </tr>\n",
       "  </tbody>\n",
       "</table>\n",
       "</div>"
      ],
      "text/plain": [
       "         Category  Rating    Reviews       Size   Installs  Type  Price  \\\n",
       "0  ART_AND_DESIGN     4.1   5.075174   9.852247   9.210440  Free    0.0   \n",
       "1  ART_AND_DESIGN     3.9   6.875232   9.546884  13.122365  Free    0.0   \n",
       "2  ART_AND_DESIGN     4.7  11.379520  11.373675  15.424949  Free    0.0   \n",
       "4  ART_AND_DESIGN     4.3   6.875232  10.239996  11.512935  Free    0.0   \n",
       "5  ART_AND_DESIGN     4.4   5.123964  10.933125  10.819798  Free    0.0   \n",
       "\n",
       "  Content Rating                     Genres  \n",
       "0       Everyone               Art & Design  \n",
       "1       Everyone  Art & Design;Pretend Play  \n",
       "2       Everyone               Art & Design  \n",
       "4       Everyone    Art & Design;Creativity  \n",
       "5       Everyone               Art & Design  "
      ]
     },
     "execution_count": 104,
     "metadata": {},
     "output_type": "execute_result"
    }
   ],
   "source": [
    "inp1_1.head()"
   ]
  },
  {
   "cell_type": "code",
   "execution_count": 105,
   "metadata": {
    "colab": {},
    "colab_type": "code",
    "id": "ugGl29mMMMnQ"
   },
   "outputs": [],
   "source": [
    "#3.\tGet dummy columns for Category, Genres, and Content Rating. This needs to be done as the models do not \n",
    "#understand categorical data, and all data should be numeric. Dummy encoding is one way to convert character fields \n",
    "#to numeric. Name of dataframe should be inp2."
   ]
  },
  {
   "cell_type": "code",
   "execution_count": 113,
   "metadata": {
    "colab": {},
    "colab_type": "code",
    "id": "ZQX0Mv4lXwo4"
   },
   "outputs": [],
   "source": [
    "final = inp1_1.copy()"
   ]
  },
  {
   "cell_type": "code",
   "execution_count": 114,
   "metadata": {
    "colab": {
     "base_uri": "https://localhost:8080/",
     "height": 204
    },
    "colab_type": "code",
    "id": "POinXRkJX69l",
    "outputId": "9f52fc60-a967-4207-b458-34fe006147cd"
   },
   "outputs": [
    {
     "data": {
      "text/html": [
       "<div>\n",
       "<style scoped>\n",
       "    .dataframe tbody tr th:only-of-type {\n",
       "        vertical-align: middle;\n",
       "    }\n",
       "\n",
       "    .dataframe tbody tr th {\n",
       "        vertical-align: top;\n",
       "    }\n",
       "\n",
       "    .dataframe thead th {\n",
       "        text-align: right;\n",
       "    }\n",
       "</style>\n",
       "<table border=\"1\" class=\"dataframe\">\n",
       "  <thead>\n",
       "    <tr style=\"text-align: right;\">\n",
       "      <th></th>\n",
       "      <th>Category</th>\n",
       "      <th>Rating</th>\n",
       "      <th>Reviews</th>\n",
       "      <th>Size</th>\n",
       "      <th>Installs</th>\n",
       "      <th>Type</th>\n",
       "      <th>Price</th>\n",
       "      <th>Content Rating</th>\n",
       "      <th>Genres</th>\n",
       "    </tr>\n",
       "  </thead>\n",
       "  <tbody>\n",
       "    <tr>\n",
       "      <td>0</td>\n",
       "      <td>ART_AND_DESIGN</td>\n",
       "      <td>4.1</td>\n",
       "      <td>5.075174</td>\n",
       "      <td>9.852247</td>\n",
       "      <td>9.210440</td>\n",
       "      <td>Free</td>\n",
       "      <td>0.0</td>\n",
       "      <td>Everyone</td>\n",
       "      <td>Art &amp; Design</td>\n",
       "    </tr>\n",
       "    <tr>\n",
       "      <td>1</td>\n",
       "      <td>ART_AND_DESIGN</td>\n",
       "      <td>3.9</td>\n",
       "      <td>6.875232</td>\n",
       "      <td>9.546884</td>\n",
       "      <td>13.122365</td>\n",
       "      <td>Free</td>\n",
       "      <td>0.0</td>\n",
       "      <td>Everyone</td>\n",
       "      <td>Art &amp; Design;Pretend Play</td>\n",
       "    </tr>\n",
       "    <tr>\n",
       "      <td>2</td>\n",
       "      <td>ART_AND_DESIGN</td>\n",
       "      <td>4.7</td>\n",
       "      <td>11.379520</td>\n",
       "      <td>11.373675</td>\n",
       "      <td>15.424949</td>\n",
       "      <td>Free</td>\n",
       "      <td>0.0</td>\n",
       "      <td>Everyone</td>\n",
       "      <td>Art &amp; Design</td>\n",
       "    </tr>\n",
       "    <tr>\n",
       "      <td>4</td>\n",
       "      <td>ART_AND_DESIGN</td>\n",
       "      <td>4.3</td>\n",
       "      <td>6.875232</td>\n",
       "      <td>10.239996</td>\n",
       "      <td>11.512935</td>\n",
       "      <td>Free</td>\n",
       "      <td>0.0</td>\n",
       "      <td>Everyone</td>\n",
       "      <td>Art &amp; Design;Creativity</td>\n",
       "    </tr>\n",
       "    <tr>\n",
       "      <td>5</td>\n",
       "      <td>ART_AND_DESIGN</td>\n",
       "      <td>4.4</td>\n",
       "      <td>5.123964</td>\n",
       "      <td>10.933125</td>\n",
       "      <td>10.819798</td>\n",
       "      <td>Free</td>\n",
       "      <td>0.0</td>\n",
       "      <td>Everyone</td>\n",
       "      <td>Art &amp; Design</td>\n",
       "    </tr>\n",
       "  </tbody>\n",
       "</table>\n",
       "</div>"
      ],
      "text/plain": [
       "         Category  Rating    Reviews       Size   Installs  Type  Price  \\\n",
       "0  ART_AND_DESIGN     4.1   5.075174   9.852247   9.210440  Free    0.0   \n",
       "1  ART_AND_DESIGN     3.9   6.875232   9.546884  13.122365  Free    0.0   \n",
       "2  ART_AND_DESIGN     4.7  11.379520  11.373675  15.424949  Free    0.0   \n",
       "4  ART_AND_DESIGN     4.3   6.875232  10.239996  11.512935  Free    0.0   \n",
       "5  ART_AND_DESIGN     4.4   5.123964  10.933125  10.819798  Free    0.0   \n",
       "\n",
       "  Content Rating                     Genres  \n",
       "0       Everyone               Art & Design  \n",
       "1       Everyone  Art & Design;Pretend Play  \n",
       "2       Everyone               Art & Design  \n",
       "4       Everyone    Art & Design;Creativity  \n",
       "5       Everyone               Art & Design  "
      ]
     },
     "execution_count": 114,
     "metadata": {},
     "output_type": "execute_result"
    }
   ],
   "source": [
    "final.head()"
   ]
  },
  {
   "cell_type": "code",
   "execution_count": 117,
   "metadata": {},
   "outputs": [
    {
     "data": {
      "text/plain": [
       "0    5930\n",
       "1     559\n",
       "Name: Type, dtype: int64"
      ]
     },
     "execution_count": 117,
     "metadata": {},
     "output_type": "execute_result"
    }
   ],
   "source": [
    "final['Type'].value_counts()"
   ]
  },
  {
   "cell_type": "code",
   "execution_count": 116,
   "metadata": {},
   "outputs": [],
   "source": [
    "final['Type'] = final['Type'].replace(['Paid', 'Free'], [1, 0])"
   ]
  },
  {
   "cell_type": "code",
   "execution_count": 123,
   "metadata": {},
   "outputs": [
    {
     "name": "stdout",
     "output_type": "stream",
     "text": [
      "<class 'pandas.core.frame.DataFrame'>\n",
      "Int64Index: 6489 entries, 0 to 10837\n",
      "Data columns (total 9 columns):\n",
      "Category          6489 non-null object\n",
      "Rating            6489 non-null float64\n",
      "Reviews           6489 non-null float64\n",
      "Size              6489 non-null float64\n",
      "Installs          6489 non-null float64\n",
      "Type              6489 non-null int64\n",
      "Price             6489 non-null float64\n",
      "Content Rating    6489 non-null object\n",
      "Genres            6489 non-null object\n",
      "dtypes: float64(5), int64(1), object(3)\n",
      "memory usage: 507.0+ KB\n"
     ]
    }
   ],
   "source": [
    "final.info()"
   ]
  },
  {
   "cell_type": "code",
   "execution_count": 133,
   "metadata": {
    "colab": {
     "base_uri": "https://localhost:8080/",
     "height": 374
    },
    "colab_type": "code",
    "id": "mjxUJvHpp0vY",
    "outputId": "c828b960-572b-4f44-83ae-3b3596631992"
   },
   "outputs": [],
   "source": [
    "#final['Category'].value_counts()"
   ]
  },
  {
   "cell_type": "code",
   "execution_count": 0,
   "metadata": {
    "colab": {},
    "colab_type": "code",
    "id": "s_Z8Syge-pIA"
   },
   "outputs": [],
   "source": [
    "#final['Category'] = final.apply(lambda x: x.mask(x.map(x.value_counts())<100, 'other') if x.name!=['Category'] else x)"
   ]
  },
  {
   "cell_type": "code",
   "execution_count": 135,
   "metadata": {
    "colab": {
     "base_uri": "https://localhost:8080/",
     "height": 255
    },
    "colab_type": "code",
    "id": "Nh4IHWkHF-E6",
    "outputId": "a55dbdc5-0b6e-418d-d68f-5154c79a887c"
   },
   "outputs": [],
   "source": [
    "#cols = ['Category']\n",
    "#for col in cols:\n",
    "#    val = final[col].value_counts()\n",
    "#    y = val[val < 100].index\n",
    "#    final[col] = final[col].replace({x:'other' for x in y})\n",
    "#print (final)"
   ]
  },
  {
   "cell_type": "code",
   "execution_count": 136,
   "metadata": {
    "colab": {
     "base_uri": "https://localhost:8080/",
     "height": 119
    },
    "colab_type": "code",
    "id": "3wyIr-4iqEBR",
    "outputId": "cc8ad50b-f883-42e2-e991-af6e02aa9d9b"
   },
   "outputs": [],
   "source": [
    "#final['Content Rating'].value_counts()"
   ]
  },
  {
   "cell_type": "code",
   "execution_count": 137,
   "metadata": {
    "colab": {
     "base_uri": "https://localhost:8080/",
     "height": 255
    },
    "colab_type": "code",
    "id": "f5eOBGQvDz4_",
    "outputId": "cc7140fe-86a6-4749-c6e5-2b0d5295aa8c"
   },
   "outputs": [],
   "source": [
    "#cols = ['Content Rating']\n",
    "#for col in cols:\n",
    "#    val = final[col].value_counts()\n",
    "#    y = val[val < 100].index\n",
    "#    final[col] = final[col].replace({x:'other' for x in y})\n",
    "#print (final)"
   ]
  },
  {
   "cell_type": "code",
   "execution_count": 138,
   "metadata": {
    "colab": {
     "base_uri": "https://localhost:8080/",
     "height": 425
    },
    "colab_type": "code",
    "id": "_6tZknaqqME8",
    "outputId": "e8bebb99-8df5-4b29-afcb-ac9631e2db21"
   },
   "outputs": [],
   "source": [
    "#final['Genres'].value_counts()"
   ]
  },
  {
   "cell_type": "code",
   "execution_count": 139,
   "metadata": {
    "colab": {
     "base_uri": "https://localhost:8080/",
     "height": 255
    },
    "colab_type": "code",
    "id": "ZhXlGMGsHyMO",
    "outputId": "883ec9ad-8021-445a-dfa7-9da9784d6676"
   },
   "outputs": [],
   "source": [
    "#cols = ['Genres']\n",
    "#for col in cols:\n",
    "#    val = final[col].value_counts()\n",
    "#    y = val[val < 100].index\n",
    "#    final[col] = final[col].replace({x:'other' for x in y})\n",
    "#print (final)"
   ]
  },
  {
   "cell_type": "code",
   "execution_count": 140,
   "metadata": {
    "colab": {
     "base_uri": "https://localhost:8080/",
     "height": 419
    },
    "colab_type": "code",
    "id": "9Zuyz0WoIe2y",
    "outputId": "b2e20ce2-32ff-4033-c9d9-7e4827c676b3"
   },
   "outputs": [
    {
     "data": {
      "text/html": [
       "<div>\n",
       "<style scoped>\n",
       "    .dataframe tbody tr th:only-of-type {\n",
       "        vertical-align: middle;\n",
       "    }\n",
       "\n",
       "    .dataframe tbody tr th {\n",
       "        vertical-align: top;\n",
       "    }\n",
       "\n",
       "    .dataframe thead th {\n",
       "        text-align: right;\n",
       "    }\n",
       "</style>\n",
       "<table border=\"1\" class=\"dataframe\">\n",
       "  <thead>\n",
       "    <tr style=\"text-align: right;\">\n",
       "      <th></th>\n",
       "      <th>Category</th>\n",
       "      <th>Rating</th>\n",
       "      <th>Reviews</th>\n",
       "      <th>Size</th>\n",
       "      <th>Installs</th>\n",
       "      <th>Type</th>\n",
       "      <th>Price</th>\n",
       "      <th>Content Rating</th>\n",
       "      <th>Genres</th>\n",
       "    </tr>\n",
       "  </thead>\n",
       "  <tbody>\n",
       "    <tr>\n",
       "      <td>0</td>\n",
       "      <td>ART_AND_DESIGN</td>\n",
       "      <td>4.1</td>\n",
       "      <td>5.075174</td>\n",
       "      <td>9.852247</td>\n",
       "      <td>9.210440</td>\n",
       "      <td>0</td>\n",
       "      <td>0.0</td>\n",
       "      <td>Everyone</td>\n",
       "      <td>Art &amp; Design</td>\n",
       "    </tr>\n",
       "    <tr>\n",
       "      <td>1</td>\n",
       "      <td>ART_AND_DESIGN</td>\n",
       "      <td>3.9</td>\n",
       "      <td>6.875232</td>\n",
       "      <td>9.546884</td>\n",
       "      <td>13.122365</td>\n",
       "      <td>0</td>\n",
       "      <td>0.0</td>\n",
       "      <td>Everyone</td>\n",
       "      <td>Art &amp; Design;Pretend Play</td>\n",
       "    </tr>\n",
       "    <tr>\n",
       "      <td>2</td>\n",
       "      <td>ART_AND_DESIGN</td>\n",
       "      <td>4.7</td>\n",
       "      <td>11.379520</td>\n",
       "      <td>11.373675</td>\n",
       "      <td>15.424949</td>\n",
       "      <td>0</td>\n",
       "      <td>0.0</td>\n",
       "      <td>Everyone</td>\n",
       "      <td>Art &amp; Design</td>\n",
       "    </tr>\n",
       "    <tr>\n",
       "      <td>4</td>\n",
       "      <td>ART_AND_DESIGN</td>\n",
       "      <td>4.3</td>\n",
       "      <td>6.875232</td>\n",
       "      <td>10.239996</td>\n",
       "      <td>11.512935</td>\n",
       "      <td>0</td>\n",
       "      <td>0.0</td>\n",
       "      <td>Everyone</td>\n",
       "      <td>Art &amp; Design;Creativity</td>\n",
       "    </tr>\n",
       "    <tr>\n",
       "      <td>5</td>\n",
       "      <td>ART_AND_DESIGN</td>\n",
       "      <td>4.4</td>\n",
       "      <td>5.123964</td>\n",
       "      <td>10.933125</td>\n",
       "      <td>10.819798</td>\n",
       "      <td>0</td>\n",
       "      <td>0.0</td>\n",
       "      <td>Everyone</td>\n",
       "      <td>Art &amp; Design</td>\n",
       "    </tr>\n",
       "    <tr>\n",
       "      <td>...</td>\n",
       "      <td>...</td>\n",
       "      <td>...</td>\n",
       "      <td>...</td>\n",
       "      <td>...</td>\n",
       "      <td>...</td>\n",
       "      <td>...</td>\n",
       "      <td>...</td>\n",
       "      <td>...</td>\n",
       "      <td>...</td>\n",
       "    </tr>\n",
       "    <tr>\n",
       "      <td>10832</td>\n",
       "      <td>WEATHER</td>\n",
       "      <td>3.8</td>\n",
       "      <td>7.086738</td>\n",
       "      <td>6.368187</td>\n",
       "      <td>11.512935</td>\n",
       "      <td>0</td>\n",
       "      <td>0.0</td>\n",
       "      <td>Everyone</td>\n",
       "      <td>Weather</td>\n",
       "    </tr>\n",
       "    <tr>\n",
       "      <td>10833</td>\n",
       "      <td>BOOKS_AND_REFERENCE</td>\n",
       "      <td>4.8</td>\n",
       "      <td>3.806662</td>\n",
       "      <td>6.429719</td>\n",
       "      <td>6.908755</td>\n",
       "      <td>0</td>\n",
       "      <td>0.0</td>\n",
       "      <td>Everyone</td>\n",
       "      <td>Books &amp; Reference</td>\n",
       "    </tr>\n",
       "    <tr>\n",
       "      <td>10834</td>\n",
       "      <td>FAMILY</td>\n",
       "      <td>4.0</td>\n",
       "      <td>2.079442</td>\n",
       "      <td>10.165890</td>\n",
       "      <td>6.216606</td>\n",
       "      <td>0</td>\n",
       "      <td>0.0</td>\n",
       "      <td>Everyone</td>\n",
       "      <td>Education</td>\n",
       "    </tr>\n",
       "    <tr>\n",
       "      <td>10836</td>\n",
       "      <td>FAMILY</td>\n",
       "      <td>4.5</td>\n",
       "      <td>3.663562</td>\n",
       "      <td>10.878066</td>\n",
       "      <td>8.517393</td>\n",
       "      <td>0</td>\n",
       "      <td>0.0</td>\n",
       "      <td>Everyone</td>\n",
       "      <td>Education</td>\n",
       "    </tr>\n",
       "    <tr>\n",
       "      <td>10837</td>\n",
       "      <td>FAMILY</td>\n",
       "      <td>5.0</td>\n",
       "      <td>1.609438</td>\n",
       "      <td>10.491302</td>\n",
       "      <td>4.615121</td>\n",
       "      <td>0</td>\n",
       "      <td>0.0</td>\n",
       "      <td>Everyone</td>\n",
       "      <td>Education</td>\n",
       "    </tr>\n",
       "  </tbody>\n",
       "</table>\n",
       "<p>6489 rows × 9 columns</p>\n",
       "</div>"
      ],
      "text/plain": [
       "                  Category  Rating    Reviews       Size   Installs  Type  \\\n",
       "0           ART_AND_DESIGN     4.1   5.075174   9.852247   9.210440     0   \n",
       "1           ART_AND_DESIGN     3.9   6.875232   9.546884  13.122365     0   \n",
       "2           ART_AND_DESIGN     4.7  11.379520  11.373675  15.424949     0   \n",
       "4           ART_AND_DESIGN     4.3   6.875232  10.239996  11.512935     0   \n",
       "5           ART_AND_DESIGN     4.4   5.123964  10.933125  10.819798     0   \n",
       "...                    ...     ...        ...        ...        ...   ...   \n",
       "10832              WEATHER     3.8   7.086738   6.368187  11.512935     0   \n",
       "10833  BOOKS_AND_REFERENCE     4.8   3.806662   6.429719   6.908755     0   \n",
       "10834               FAMILY     4.0   2.079442  10.165890   6.216606     0   \n",
       "10836               FAMILY     4.5   3.663562  10.878066   8.517393     0   \n",
       "10837               FAMILY     5.0   1.609438  10.491302   4.615121     0   \n",
       "\n",
       "       Price Content Rating                     Genres  \n",
       "0        0.0       Everyone               Art & Design  \n",
       "1        0.0       Everyone  Art & Design;Pretend Play  \n",
       "2        0.0       Everyone               Art & Design  \n",
       "4        0.0       Everyone    Art & Design;Creativity  \n",
       "5        0.0       Everyone               Art & Design  \n",
       "...      ...            ...                        ...  \n",
       "10832    0.0       Everyone                    Weather  \n",
       "10833    0.0       Everyone          Books & Reference  \n",
       "10834    0.0       Everyone                  Education  \n",
       "10836    0.0       Everyone                  Education  \n",
       "10837    0.0       Everyone                  Education  \n",
       "\n",
       "[6489 rows x 9 columns]"
      ]
     },
     "execution_count": 140,
     "metadata": {},
     "output_type": "execute_result"
    }
   ],
   "source": [
    "final"
   ]
  },
  {
   "cell_type": "code",
   "execution_count": 141,
   "metadata": {},
   "outputs": [],
   "source": [
    "def preprocess_features(X):\n",
    "    ''' Preprocesses the student data and converts non-numeric binary variables into\n",
    "        binary (0/1) variables. Converts categorical variables into dummy variables. '''\n",
    "\n",
    "    # Initialize new output DataFrame\n",
    "    output = pd.DataFrame(index = X.index)\n",
    "\n",
    "    # Investigate each feature column for the data\n",
    "    for col, col_data in X.iteritems():\n",
    "\n",
    "        # If data type is categorical, convert to dummy variables\n",
    "        if col_data.dtype == object:\n",
    "            # Example: 'school' => 'school_GP' and 'school_MS'\n",
    "            col_data = pd.get_dummies(col_data, prefix = col)\n",
    "\n",
    "        # Collect the revised columns\n",
    "        output = output.join(col_data)\n",
    "\n",
    "    return output"
   ]
  },
  {
   "cell_type": "code",
   "execution_count": 142,
   "metadata": {},
   "outputs": [],
   "source": [
    "X_all = preprocess_features(final)"
   ]
  },
  {
   "cell_type": "code",
   "execution_count": 147,
   "metadata": {},
   "outputs": [
    {
     "name": "stdout",
     "output_type": "stream",
     "text": [
      "<class 'pandas.core.frame.DataFrame'>\n",
      "Int64Index: 6489 entries, 0 to 10837\n",
      "Columns: 153 entries, Category_ART_AND_DESIGN to Genres_Word\n",
      "dtypes: float64(5), int64(1), uint8(147)\n",
      "memory usage: 1.6 MB\n"
     ]
    }
   ],
   "source": [
    "X_all.info()"
   ]
  },
  {
   "cell_type": "code",
   "execution_count": 144,
   "metadata": {},
   "outputs": [
    {
     "data": {
      "text/plain": [
       "'C:\\\\Users\\\\Amar\\\\Downloads'"
      ]
     },
     "execution_count": 144,
     "metadata": {},
     "output_type": "execute_result"
    }
   ],
   "source": [
    "import os\n",
    "os.getcwd()"
   ]
  },
  {
   "cell_type": "code",
   "execution_count": 145,
   "metadata": {},
   "outputs": [],
   "source": [
    "X_all.to_csv('Xall.csv')"
   ]
  },
  {
   "cell_type": "code",
   "execution_count": 0,
   "metadata": {
    "colab": {},
    "colab_type": "code",
    "id": "7MMMXPKKbfbr"
   },
   "outputs": [],
   "source": [
    "#col_to_categorize = ['Category', 'Type', 'Content Rating', 'Genres']"
   ]
  },
  {
   "cell_type": "code",
   "execution_count": 263,
   "metadata": {
    "colab": {},
    "colab_type": "code",
    "id": "jAGn3MX2N_ns"
   },
   "outputs": [],
   "source": [
    "categorical_columns = X_all.columns"
   ]
  },
  {
   "cell_type": "code",
   "execution_count": 150,
   "metadata": {
    "colab": {},
    "colab_type": "code",
    "id": "i7LPJ2MCZcIZ"
   },
   "outputs": [],
   "source": [
    "X = X_all.drop(['Rating'], axis=1)\n",
    "y = X_all['Rating']"
   ]
  },
  {
   "cell_type": "code",
   "execution_count": 151,
   "metadata": {
    "colab": {
     "base_uri": "https://localhost:8080/",
     "height": 238
    },
    "colab_type": "code",
    "id": "Dnbj4ZiSa4hU",
    "outputId": "a330f48a-1b3e-4f59-9823-2cd4aa8d68dd"
   },
   "outputs": [
    {
     "data": {
      "text/html": [
       "<div>\n",
       "<style scoped>\n",
       "    .dataframe tbody tr th:only-of-type {\n",
       "        vertical-align: middle;\n",
       "    }\n",
       "\n",
       "    .dataframe tbody tr th {\n",
       "        vertical-align: top;\n",
       "    }\n",
       "\n",
       "    .dataframe thead th {\n",
       "        text-align: right;\n",
       "    }\n",
       "</style>\n",
       "<table border=\"1\" class=\"dataframe\">\n",
       "  <thead>\n",
       "    <tr style=\"text-align: right;\">\n",
       "      <th></th>\n",
       "      <th>Category_ART_AND_DESIGN</th>\n",
       "      <th>Category_AUTO_AND_VEHICLES</th>\n",
       "      <th>Category_BEAUTY</th>\n",
       "      <th>Category_BOOKS_AND_REFERENCE</th>\n",
       "      <th>Category_BUSINESS</th>\n",
       "      <th>Category_COMICS</th>\n",
       "      <th>Category_COMMUNICATION</th>\n",
       "      <th>Category_DATING</th>\n",
       "      <th>Category_EDUCATION</th>\n",
       "      <th>Category_ENTERTAINMENT</th>\n",
       "      <th>...</th>\n",
       "      <th>Genres_Strategy;Education</th>\n",
       "      <th>Genres_Tools</th>\n",
       "      <th>Genres_Travel &amp; Local</th>\n",
       "      <th>Genres_Travel &amp; Local;Action &amp; Adventure</th>\n",
       "      <th>Genres_Trivia</th>\n",
       "      <th>Genres_Video Players &amp; Editors</th>\n",
       "      <th>Genres_Video Players &amp; Editors;Creativity</th>\n",
       "      <th>Genres_Video Players &amp; Editors;Music &amp; Video</th>\n",
       "      <th>Genres_Weather</th>\n",
       "      <th>Genres_Word</th>\n",
       "    </tr>\n",
       "  </thead>\n",
       "  <tbody>\n",
       "    <tr>\n",
       "      <td>0</td>\n",
       "      <td>1</td>\n",
       "      <td>0</td>\n",
       "      <td>0</td>\n",
       "      <td>0</td>\n",
       "      <td>0</td>\n",
       "      <td>0</td>\n",
       "      <td>0</td>\n",
       "      <td>0</td>\n",
       "      <td>0</td>\n",
       "      <td>0</td>\n",
       "      <td>...</td>\n",
       "      <td>0</td>\n",
       "      <td>0</td>\n",
       "      <td>0</td>\n",
       "      <td>0</td>\n",
       "      <td>0</td>\n",
       "      <td>0</td>\n",
       "      <td>0</td>\n",
       "      <td>0</td>\n",
       "      <td>0</td>\n",
       "      <td>0</td>\n",
       "    </tr>\n",
       "    <tr>\n",
       "      <td>1</td>\n",
       "      <td>1</td>\n",
       "      <td>0</td>\n",
       "      <td>0</td>\n",
       "      <td>0</td>\n",
       "      <td>0</td>\n",
       "      <td>0</td>\n",
       "      <td>0</td>\n",
       "      <td>0</td>\n",
       "      <td>0</td>\n",
       "      <td>0</td>\n",
       "      <td>...</td>\n",
       "      <td>0</td>\n",
       "      <td>0</td>\n",
       "      <td>0</td>\n",
       "      <td>0</td>\n",
       "      <td>0</td>\n",
       "      <td>0</td>\n",
       "      <td>0</td>\n",
       "      <td>0</td>\n",
       "      <td>0</td>\n",
       "      <td>0</td>\n",
       "    </tr>\n",
       "    <tr>\n",
       "      <td>2</td>\n",
       "      <td>1</td>\n",
       "      <td>0</td>\n",
       "      <td>0</td>\n",
       "      <td>0</td>\n",
       "      <td>0</td>\n",
       "      <td>0</td>\n",
       "      <td>0</td>\n",
       "      <td>0</td>\n",
       "      <td>0</td>\n",
       "      <td>0</td>\n",
       "      <td>...</td>\n",
       "      <td>0</td>\n",
       "      <td>0</td>\n",
       "      <td>0</td>\n",
       "      <td>0</td>\n",
       "      <td>0</td>\n",
       "      <td>0</td>\n",
       "      <td>0</td>\n",
       "      <td>0</td>\n",
       "      <td>0</td>\n",
       "      <td>0</td>\n",
       "    </tr>\n",
       "    <tr>\n",
       "      <td>4</td>\n",
       "      <td>1</td>\n",
       "      <td>0</td>\n",
       "      <td>0</td>\n",
       "      <td>0</td>\n",
       "      <td>0</td>\n",
       "      <td>0</td>\n",
       "      <td>0</td>\n",
       "      <td>0</td>\n",
       "      <td>0</td>\n",
       "      <td>0</td>\n",
       "      <td>...</td>\n",
       "      <td>0</td>\n",
       "      <td>0</td>\n",
       "      <td>0</td>\n",
       "      <td>0</td>\n",
       "      <td>0</td>\n",
       "      <td>0</td>\n",
       "      <td>0</td>\n",
       "      <td>0</td>\n",
       "      <td>0</td>\n",
       "      <td>0</td>\n",
       "    </tr>\n",
       "    <tr>\n",
       "      <td>5</td>\n",
       "      <td>1</td>\n",
       "      <td>0</td>\n",
       "      <td>0</td>\n",
       "      <td>0</td>\n",
       "      <td>0</td>\n",
       "      <td>0</td>\n",
       "      <td>0</td>\n",
       "      <td>0</td>\n",
       "      <td>0</td>\n",
       "      <td>0</td>\n",
       "      <td>...</td>\n",
       "      <td>0</td>\n",
       "      <td>0</td>\n",
       "      <td>0</td>\n",
       "      <td>0</td>\n",
       "      <td>0</td>\n",
       "      <td>0</td>\n",
       "      <td>0</td>\n",
       "      <td>0</td>\n",
       "      <td>0</td>\n",
       "      <td>0</td>\n",
       "    </tr>\n",
       "    <tr>\n",
       "      <td>...</td>\n",
       "      <td>...</td>\n",
       "      <td>...</td>\n",
       "      <td>...</td>\n",
       "      <td>...</td>\n",
       "      <td>...</td>\n",
       "      <td>...</td>\n",
       "      <td>...</td>\n",
       "      <td>...</td>\n",
       "      <td>...</td>\n",
       "      <td>...</td>\n",
       "      <td>...</td>\n",
       "      <td>...</td>\n",
       "      <td>...</td>\n",
       "      <td>...</td>\n",
       "      <td>...</td>\n",
       "      <td>...</td>\n",
       "      <td>...</td>\n",
       "      <td>...</td>\n",
       "      <td>...</td>\n",
       "      <td>...</td>\n",
       "      <td>...</td>\n",
       "    </tr>\n",
       "    <tr>\n",
       "      <td>10832</td>\n",
       "      <td>0</td>\n",
       "      <td>0</td>\n",
       "      <td>0</td>\n",
       "      <td>0</td>\n",
       "      <td>0</td>\n",
       "      <td>0</td>\n",
       "      <td>0</td>\n",
       "      <td>0</td>\n",
       "      <td>0</td>\n",
       "      <td>0</td>\n",
       "      <td>...</td>\n",
       "      <td>0</td>\n",
       "      <td>0</td>\n",
       "      <td>0</td>\n",
       "      <td>0</td>\n",
       "      <td>0</td>\n",
       "      <td>0</td>\n",
       "      <td>0</td>\n",
       "      <td>0</td>\n",
       "      <td>1</td>\n",
       "      <td>0</td>\n",
       "    </tr>\n",
       "    <tr>\n",
       "      <td>10833</td>\n",
       "      <td>0</td>\n",
       "      <td>0</td>\n",
       "      <td>0</td>\n",
       "      <td>1</td>\n",
       "      <td>0</td>\n",
       "      <td>0</td>\n",
       "      <td>0</td>\n",
       "      <td>0</td>\n",
       "      <td>0</td>\n",
       "      <td>0</td>\n",
       "      <td>...</td>\n",
       "      <td>0</td>\n",
       "      <td>0</td>\n",
       "      <td>0</td>\n",
       "      <td>0</td>\n",
       "      <td>0</td>\n",
       "      <td>0</td>\n",
       "      <td>0</td>\n",
       "      <td>0</td>\n",
       "      <td>0</td>\n",
       "      <td>0</td>\n",
       "    </tr>\n",
       "    <tr>\n",
       "      <td>10834</td>\n",
       "      <td>0</td>\n",
       "      <td>0</td>\n",
       "      <td>0</td>\n",
       "      <td>0</td>\n",
       "      <td>0</td>\n",
       "      <td>0</td>\n",
       "      <td>0</td>\n",
       "      <td>0</td>\n",
       "      <td>0</td>\n",
       "      <td>0</td>\n",
       "      <td>...</td>\n",
       "      <td>0</td>\n",
       "      <td>0</td>\n",
       "      <td>0</td>\n",
       "      <td>0</td>\n",
       "      <td>0</td>\n",
       "      <td>0</td>\n",
       "      <td>0</td>\n",
       "      <td>0</td>\n",
       "      <td>0</td>\n",
       "      <td>0</td>\n",
       "    </tr>\n",
       "    <tr>\n",
       "      <td>10836</td>\n",
       "      <td>0</td>\n",
       "      <td>0</td>\n",
       "      <td>0</td>\n",
       "      <td>0</td>\n",
       "      <td>0</td>\n",
       "      <td>0</td>\n",
       "      <td>0</td>\n",
       "      <td>0</td>\n",
       "      <td>0</td>\n",
       "      <td>0</td>\n",
       "      <td>...</td>\n",
       "      <td>0</td>\n",
       "      <td>0</td>\n",
       "      <td>0</td>\n",
       "      <td>0</td>\n",
       "      <td>0</td>\n",
       "      <td>0</td>\n",
       "      <td>0</td>\n",
       "      <td>0</td>\n",
       "      <td>0</td>\n",
       "      <td>0</td>\n",
       "    </tr>\n",
       "    <tr>\n",
       "      <td>10837</td>\n",
       "      <td>0</td>\n",
       "      <td>0</td>\n",
       "      <td>0</td>\n",
       "      <td>0</td>\n",
       "      <td>0</td>\n",
       "      <td>0</td>\n",
       "      <td>0</td>\n",
       "      <td>0</td>\n",
       "      <td>0</td>\n",
       "      <td>0</td>\n",
       "      <td>...</td>\n",
       "      <td>0</td>\n",
       "      <td>0</td>\n",
       "      <td>0</td>\n",
       "      <td>0</td>\n",
       "      <td>0</td>\n",
       "      <td>0</td>\n",
       "      <td>0</td>\n",
       "      <td>0</td>\n",
       "      <td>0</td>\n",
       "      <td>0</td>\n",
       "    </tr>\n",
       "  </tbody>\n",
       "</table>\n",
       "<p>6489 rows × 152 columns</p>\n",
       "</div>"
      ],
      "text/plain": [
       "       Category_ART_AND_DESIGN  Category_AUTO_AND_VEHICLES  Category_BEAUTY  \\\n",
       "0                            1                           0                0   \n",
       "1                            1                           0                0   \n",
       "2                            1                           0                0   \n",
       "4                            1                           0                0   \n",
       "5                            1                           0                0   \n",
       "...                        ...                         ...              ...   \n",
       "10832                        0                           0                0   \n",
       "10833                        0                           0                0   \n",
       "10834                        0                           0                0   \n",
       "10836                        0                           0                0   \n",
       "10837                        0                           0                0   \n",
       "\n",
       "       Category_BOOKS_AND_REFERENCE  Category_BUSINESS  Category_COMICS  \\\n",
       "0                                 0                  0                0   \n",
       "1                                 0                  0                0   \n",
       "2                                 0                  0                0   \n",
       "4                                 0                  0                0   \n",
       "5                                 0                  0                0   \n",
       "...                             ...                ...              ...   \n",
       "10832                             0                  0                0   \n",
       "10833                             1                  0                0   \n",
       "10834                             0                  0                0   \n",
       "10836                             0                  0                0   \n",
       "10837                             0                  0                0   \n",
       "\n",
       "       Category_COMMUNICATION  Category_DATING  Category_EDUCATION  \\\n",
       "0                           0                0                   0   \n",
       "1                           0                0                   0   \n",
       "2                           0                0                   0   \n",
       "4                           0                0                   0   \n",
       "5                           0                0                   0   \n",
       "...                       ...              ...                 ...   \n",
       "10832                       0                0                   0   \n",
       "10833                       0                0                   0   \n",
       "10834                       0                0                   0   \n",
       "10836                       0                0                   0   \n",
       "10837                       0                0                   0   \n",
       "\n",
       "       Category_ENTERTAINMENT  ...  Genres_Strategy;Education  Genres_Tools  \\\n",
       "0                           0  ...                          0             0   \n",
       "1                           0  ...                          0             0   \n",
       "2                           0  ...                          0             0   \n",
       "4                           0  ...                          0             0   \n",
       "5                           0  ...                          0             0   \n",
       "...                       ...  ...                        ...           ...   \n",
       "10832                       0  ...                          0             0   \n",
       "10833                       0  ...                          0             0   \n",
       "10834                       0  ...                          0             0   \n",
       "10836                       0  ...                          0             0   \n",
       "10837                       0  ...                          0             0   \n",
       "\n",
       "       Genres_Travel & Local  Genres_Travel & Local;Action & Adventure  \\\n",
       "0                          0                                         0   \n",
       "1                          0                                         0   \n",
       "2                          0                                         0   \n",
       "4                          0                                         0   \n",
       "5                          0                                         0   \n",
       "...                      ...                                       ...   \n",
       "10832                      0                                         0   \n",
       "10833                      0                                         0   \n",
       "10834                      0                                         0   \n",
       "10836                      0                                         0   \n",
       "10837                      0                                         0   \n",
       "\n",
       "       Genres_Trivia  Genres_Video Players & Editors  \\\n",
       "0                  0                               0   \n",
       "1                  0                               0   \n",
       "2                  0                               0   \n",
       "4                  0                               0   \n",
       "5                  0                               0   \n",
       "...              ...                             ...   \n",
       "10832              0                               0   \n",
       "10833              0                               0   \n",
       "10834              0                               0   \n",
       "10836              0                               0   \n",
       "10837              0                               0   \n",
       "\n",
       "       Genres_Video Players & Editors;Creativity  \\\n",
       "0                                              0   \n",
       "1                                              0   \n",
       "2                                              0   \n",
       "4                                              0   \n",
       "5                                              0   \n",
       "...                                          ...   \n",
       "10832                                          0   \n",
       "10833                                          0   \n",
       "10834                                          0   \n",
       "10836                                          0   \n",
       "10837                                          0   \n",
       "\n",
       "       Genres_Video Players & Editors;Music & Video  Genres_Weather  \\\n",
       "0                                                 0               0   \n",
       "1                                                 0               0   \n",
       "2                                                 0               0   \n",
       "4                                                 0               0   \n",
       "5                                                 0               0   \n",
       "...                                             ...             ...   \n",
       "10832                                             0               1   \n",
       "10833                                             0               0   \n",
       "10834                                             0               0   \n",
       "10836                                             0               0   \n",
       "10837                                             0               0   \n",
       "\n",
       "       Genres_Word  \n",
       "0                0  \n",
       "1                0  \n",
       "2                0  \n",
       "4                0  \n",
       "5                0  \n",
       "...            ...  \n",
       "10832            0  \n",
       "10833            0  \n",
       "10834            0  \n",
       "10836            0  \n",
       "10837            0  \n",
       "\n",
       "[6489 rows x 152 columns]"
      ]
     },
     "execution_count": 151,
     "metadata": {},
     "output_type": "execute_result"
    }
   ],
   "source": [
    "X"
   ]
  },
  {
   "cell_type": "code",
   "execution_count": 152,
   "metadata": {
    "colab": {
     "base_uri": "https://localhost:8080/",
     "height": 34
    },
    "colab_type": "code",
    "id": "41vFvf3EcxdR",
    "outputId": "0184c320-fe72-41c9-af7e-5ab0216e414d"
   },
   "outputs": [
    {
     "data": {
      "text/plain": [
       "0        4.1\n",
       "1        3.9\n",
       "2        4.7\n",
       "4        4.3\n",
       "5        4.4\n",
       "        ... \n",
       "10832    3.8\n",
       "10833    4.8\n",
       "10834    4.0\n",
       "10836    4.5\n",
       "10837    5.0\n",
       "Name: Rating, Length: 6489, dtype: float64"
      ]
     },
     "execution_count": 152,
     "metadata": {},
     "output_type": "execute_result"
    }
   ],
   "source": [
    "y"
   ]
  },
  {
   "cell_type": "code",
   "execution_count": 0,
   "metadata": {
    "colab": {},
    "colab_type": "code",
    "id": "MYAMbhntTvXj"
   },
   "outputs": [],
   "source": [
    "#from sklearn.preprocessing import OneHotEncoder\n",
    "#for var in categorical_columns:\n",
    " # onehotencoder = OneHotEncoder()\n",
    " # final[var]= onehotencoder.fit_transform(final[var]).toarray()"
   ]
  },
  {
   "cell_type": "code",
   "execution_count": 134,
   "metadata": {
    "colab": {
     "base_uri": "https://localhost:8080/",
     "height": 214
    },
    "colab_type": "code",
    "id": "FOdW21drXEG_",
    "outputId": "f9cc73eb-2ef9-4b99-9db4-8002d1e3fd47"
   },
   "outputs": [],
   "source": [
    "#from sklearn.preprocessing import OneHotEncoder\n",
    "#X_onehotencoder = OneHotEncoder()\n",
    "#X = X_onehotencoder.fit_transform(X).toarray()\n",
    "#print (X)"
   ]
  },
  {
   "cell_type": "code",
   "execution_count": 146,
   "metadata": {
    "colab": {
     "base_uri": "https://localhost:8080/",
     "height": 136
    },
    "colab_type": "code",
    "id": "S820rsWaZ80e",
    "outputId": "121ca706-4fbc-4840-dfe9-34ce31e26252"
   },
   "outputs": [],
   "source": [
    "#from sklearn.preprocessing import OneHotEncoder\n",
    "#oneHot = OneHotEncoder()\n",
    "#x_ohe = oneHot.fit_transform(final[col_to_categorize].values.reshape(-1,1)).toarray()\n",
    "#x_ohe"
   ]
  },
  {
   "cell_type": "code",
   "execution_count": 157,
   "metadata": {
    "colab": {},
    "colab_type": "code",
    "id": "F5Q2J2x1dGLy"
   },
   "outputs": [],
   "source": [
    "from sklearn.model_selection import train_test_split\n",
    "X_train, X_test, y_train, y_test = train_test_split (X, y, test_size = 0.3, random_state = 42)"
   ]
  },
  {
   "cell_type": "code",
   "execution_count": 158,
   "metadata": {
    "colab": {
     "base_uri": "https://localhost:8080/",
     "height": 85
    },
    "colab_type": "code",
    "id": "y4N29C1gdadf",
    "outputId": "198b15f1-2d1c-4079-852e-197cdbeea30f"
   },
   "outputs": [
    {
     "name": "stdout",
     "output_type": "stream",
     "text": [
      "(4542, 152)\n",
      "(1947, 152)\n",
      "(4542,)\n",
      "(1947,)\n"
     ]
    }
   ],
   "source": [
    "print(X_train.shape)\n",
    "print(X_test.shape)\n",
    "print(y_train.shape)\n",
    "print(y_test.shape)"
   ]
  },
  {
   "cell_type": "code",
   "execution_count": 266,
   "metadata": {
    "colab": {
     "base_uri": "https://localhost:8080/",
     "height": 34
    },
    "colab_type": "code",
    "id": "6kq9Bn04ellc",
    "outputId": "bbf35e04-30ad-41b4-896b-bf8d52dd2a64"
   },
   "outputs": [
    {
     "data": {
      "text/plain": [
       "LinearRegression(copy_X=True, fit_intercept=True, n_jobs=-1, normalize=False)"
      ]
     },
     "execution_count": 266,
     "metadata": {},
     "output_type": "execute_result"
    }
   ],
   "source": [
    "from sklearn.linear_model import LinearRegression\n",
    "model = LinearRegression(n_jobs = -1)\n",
    "model.fit(X_train,y_train)"
   ]
  },
  {
   "cell_type": "code",
   "execution_count": 216,
   "metadata": {
    "colab": {
     "base_uri": "https://localhost:8080/",
     "height": 68
    },
    "colab_type": "code",
    "id": "I-p6HGFLfPMB",
    "outputId": "ee6729f2-da61-4276-b431-15186f250eb6"
   },
   "outputs": [
    {
     "name": "stdout",
     "output_type": "stream",
     "text": [
      "-334091977990.34625\n",
      "[ 3.60791403e+11  7.46449430e+11 -3.76082318e+11  2.60271535e+11\n",
      " -1.57963789e+12 -3.25762580e+12  7.69714034e+11 -7.62424351e+11\n",
      "  3.60791403e+11  3.60791403e+11 -1.29011767e+12  3.60791403e+11\n",
      " -4.24225311e+11  2.52783509e+12  3.60791403e+11  1.51128959e+11\n",
      "  2.58603685e+12 -2.05848321e+11  2.03353602e+12  1.16423065e+12\n",
      "  2.06982318e+12 -6.52852035e+11  3.97543280e+11  1.55309401e+11\n",
      "  5.46593394e+11 -1.96062489e+11  1.93654543e+11  3.63095054e+11\n",
      "  3.60791403e+11  1.04764385e+12  2.11980176e+10  3.60791403e+11\n",
      "  1.74213128e+11  1.71142578e-01  5.37109375e-03 -1.53564453e-01\n",
      " -9.67712402e-02  0.00000000e+00  5.16428057e+09  5.16428057e+09\n",
      "  5.16428057e+09  5.16428057e+09  5.16428057e+09 -3.72862594e+10\n",
      " -3.18637053e+10 -3.18637053e+10 -3.18637053e+10 -3.18637053e+10\n",
      "  1.87697153e+09 -3.18637053e+10 -3.18637053e+10 -3.18637053e+10\n",
      " -3.18637053e+10 -3.18637053e+10 -3.18637053e+10 -4.17521733e+11\n",
      "  7.05010016e+11 -3.18637053e+10 -3.18637053e+10 -3.18637053e+10\n",
      " -3.18637053e+10  6.86561626e+10 -3.18637053e+10  1.90856558e+12\n",
      " -3.18637053e+10 -3.18637053e+10 -3.18637053e+10 -3.18637053e+10\n",
      " -3.18637053e+10 -3.18637053e+10 -3.18637053e+10 -3.18637053e+10\n",
      " -3.18637053e+10 -3.18637053e+10  3.58655349e+12  2.10648100e+10\n",
      " -4.40786337e+11  1.09135205e+12 -3.18637053e+10 -3.18637053e+10\n",
      " -3.18637053e+10 -3.18637053e+10 -3.18637053e+10 -3.18637053e+10\n",
      " -3.18637053e+10 -3.18637053e+10  3.41601158e+09 -3.18637053e+10\n",
      " -3.18637053e+10 -3.18637053e+10 -3.18637053e+10 -3.18637053e+10\n",
      " -3.18637053e+10 -3.18637053e+10 -3.18637053e+10 -3.22289914e+09\n",
      " -3.18637053e+10 -3.18637053e+10  1.61904537e+12  7.53153008e+11\n",
      " -2.19890739e+12  1.77798739e+11 -3.18637053e+10 -3.18637053e+10\n",
      " -2.25710916e+12  5.34776018e+11 -1.70460832e+12 -8.35302951e+11\n",
      " -1.74089548e+12 -3.18637053e+10 -3.18637053e+10 -3.18637053e+10\n",
      "  9.81779733e+11 -6.86155823e+10 -6.86155823e+10 -6.86155823e+10\n",
      " -6.86155823e+10  1.73618296e+11 -2.17665696e+11  5.24990186e+11\n",
      " -3.18637053e+10 -3.18637053e+10 -3.18637053e+10 -3.18637053e+10\n",
      "  2.97825183e+09 -3.18637053e+10 -3.18637053e+10  5.77222464e+08\n",
      " -3.18637053e+10 -3.18637053e+10 -4.88281250e-04  1.35273154e+11\n",
      " -3.18637053e+10 -3.18637053e+10 -3.18637053e+10 -3.18637053e+10\n",
      " -3.41673561e+10 -3.18637053e+10 -3.18637053e+10 -3.18637053e+10\n",
      " -3.18637053e+10 -3.18637053e+10  0.00000000e+00 -7.18716155e+11\n",
      "  3.07729680e+11  3.07729680e+11 -3.18637053e+10 -3.18637053e+10\n",
      " -3.18637053e+10  0.00000000e+00  1.54714569e+11 -3.18637053e+10]\n"
     ]
    }
   ],
   "source": [
    "print(model.intercept_)\n",
    "print(model.coef_)"
   ]
  },
  {
   "cell_type": "code",
   "execution_count": 264,
   "metadata": {
    "colab": {
     "base_uri": "https://localhost:8080/",
     "height": 153
    },
    "colab_type": "code",
    "id": "NenYPacxfmPM",
    "outputId": "0e1426e7-4be9-40e3-b932-87e035af5f00"
   },
   "outputs": [
    {
     "data": {
      "text/plain": [
       "[('Category_ART_AND_DESIGN', 360791402720.638),\n",
       " ('Category_AUTO_AND_VEHICLES', 746449430090.9478),\n",
       " ('Category_BEAUTY', -376082318105.9716),\n",
       " ('Category_BOOKS_AND_REFERENCE', 260271534836.42688),\n",
       " ('Category_BUSINESS', -1579637887161.0647),\n",
       " ('Category_COMICS', -3257625796257.1904),\n",
       " ('Category_COMMUNICATION', 769714033985.6328),\n",
       " ('Category_DATING', -762424350714.8866),\n",
       " ('Category_EDUCATION', 360791402720.944),\n",
       " ('Category_ENTERTAINMENT', 360791402720.8134),\n",
       " ('Category_EVENTS', -1290117672109.5417),\n",
       " ('Category_FAMILY', 360791402720.9169),\n",
       " ('Category_FINANCE', -424225311014.2144),\n",
       " ('Category_FOOD_AND_DRINK', 2527835086902.9746),\n",
       " ('Category_GAME', 360791402721.1216),\n",
       " ('Category_HEALTH_AND_FITNESS', 151128958637.23444),\n",
       " ('Category_HOUSE_AND_HOME', 2586036854949.2734),\n",
       " ('Category_LIBRARIES_AND_DEMO', -205848321046.10672),\n",
       " ('Category_LIFESTYLE', 2033536015175.9546),\n",
       " ('Category_MAPS_AND_NAVIGATION', 1164230648844.6333),\n",
       " ('Category_MEDICAL', 2069823175055.8933),\n",
       " ('Category_NEWS_AND_MAGAZINES', -652852035481.0963),\n",
       " ('Category_PARENTING', 397543279728.7595),\n",
       " ('Category_PERSONALIZATION', 155309401154.39954),\n",
       " ('Category_PHOTOGRAPHY', 546593393694.83936),\n",
       " ('Category_PRODUCTIVITY', -196062488614.9745),\n",
       " ('Category_SHOPPING', 193654543177.00116),\n",
       " ('Category_SOCIAL', 363095053558.5757),\n",
       " ('Category_SPORTS', 360791402720.95844),\n",
       " ('Category_TOOLS', 1047643852318.4148),\n",
       " ('Category_TRAVEL_AND_LOCAL', 21198017570.51346),\n",
       " ('Category_VIDEO_PLAYERS', 360791402720.91125),\n",
       " ('Category_WEATHER', 174213128258.61395),\n",
       " ('Rating', 0.171142578125),\n",
       " ('Reviews', 0.00537109375),\n",
       " ('Size', -0.153564453125),\n",
       " ('Installs', -0.096771240234375),\n",
       " ('Type', 0.0),\n",
       " ('Price', 5164280566.461256),\n",
       " ('Content Rating_Adults only 18+', 5164280566.189209),\n",
       " ('Content Rating_Everyone', 5164280566.195129),\n",
       " ('Content Rating_Everyone 10+', 5164280566.229507),\n",
       " ('Content Rating_Mature 17+', 5164280566.205811),\n",
       " ('Content Rating_Teen', -37286259394.76766),\n",
       " ('Content Rating_Unrated', -31863705292.434235),\n",
       " ('Genres_Action', -31863705292.049526),\n",
       " ('Genres_Action;Action & Adventure', -31863705292.495377),\n",
       " ('Genres_Adventure', -31863705292.094505),\n",
       " ('Genres_Adventure;Action & Adventure', 1876971526.8510895),\n",
       " ('Genres_Adventure;Brain Games', -31863705292.372383),\n",
       " ('Genres_Arcade', -31863705292.01258),\n",
       " ('Genres_Arcade;Action & Adventure', -31863705291.921295),\n",
       " ('Genres_Arcade;Pretend Play', -31863705291.56891),\n",
       " ('Genres_Art & Design', -31863705291.786797),\n",
       " ('Genres_Art & Design;Creativity', -31863705291.93971),\n",
       " ('Genres_Art & Design;Pretend Play', -417521732661.9925),\n",
       " ('Genres_Auto & Vehicles', 705010015535.0211),\n",
       " ('Genres_Beauty', -31863705292.41944),\n",
       " ('Genres_Board', -31863705292.214096),\n",
       " ('Genres_Board;Action & Adventure', -31863705292.00919),\n",
       " ('Genres_Board;Brain Games', -31863705291.484814),\n",
       " ('Genres_Board;Pretend Play', 68656162592.53464),\n",
       " ('Genres_Books & Reference', -31863705292.160976),\n",
       " ('Genres_Books & Reference;Education', 1908565584589.7808),\n",
       " ('Genres_Business', -31863705292.577263),\n",
       " ('Genres_Card', -31863705292.30397),\n",
       " ('Genres_Card;Action & Adventure', -31863705291.761738),\n",
       " ('Genres_Card;Brain Games', -31863705292.385124),\n",
       " ('Genres_Casino', -31863705292.335922),\n",
       " ('Genres_Casual', -31863705292.735905),\n",
       " ('Genres_Casual;Action & Adventure', -31863705291.810444),\n",
       " ('Genres_Casual;Brain Games', -31863705291.718403),\n",
       " ('Genres_Casual;Creativity', -31863705292.064262),\n",
       " ('Genres_Casual;Education', -31863705292.207523),\n",
       " ('Genres_Casual;Pretend Play', 3586553493685.885),\n",
       " ('Genres_Comics', 21064810037.61066),\n",
       " ('Genres_Comics;Creativity', -440786336557.00854),\n",
       " ('Genres_Communication', 1091352048143.4109),\n",
       " ('Genres_Dating', -31863705292.02069),\n",
       " ('Genres_Education', -31863705291.71481),\n",
       " ('Genres_Education;Action & Adventure', -31863705292.208874),\n",
       " ('Genres_Education;Brain Games', -31863705291.62858),\n",
       " ('Genres_Education;Creativity', -31863705291.864143),\n",
       " ('Genres_Education;Education', -31863705291.85602),\n",
       " ('Genres_Education;Music & Video', -31863705291.804775),\n",
       " ('Genres_Education;Pretend Play', -31863705292.314537),\n",
       " ('Genres_Educational', 3416011583.622428),\n",
       " ('Genres_Educational;Action & Adventure', -31863705291.910835),\n",
       " ('Genres_Educational;Brain Games', -31863705292.046516),\n",
       " ('Genres_Educational;Creativity', -31863705291.999657),\n",
       " ('Genres_Educational;Education', -31863705292.04598),\n",
       " ('Genres_Educational;Pretend Play', -31863705292.206177),\n",
       " ('Genres_Entertainment', -31863705292.08295),\n",
       " ('Genres_Entertainment;Action & Adventure', -31863705292.19176),\n",
       " ('Genres_Entertainment;Brain Games', -31863705291.64533),\n",
       " ('Genres_Entertainment;Creativity', -3222899139.231433),\n",
       " ('Genres_Entertainment;Education', -31863705292.18268),\n",
       " ('Genres_Entertainment;Music & Video', -31863705292.667988),\n",
       " ('Genres_Entertainment;Pretend Play', 1619045369538.6392),\n",
       " ('Genres_Events', 753153008442.9213),\n",
       " ('Genres_Finance', -2198907389474.1848),\n",
       " ('Genres_Food & Drink', 177798738791.51428),\n",
       " ('Genres_Health & Fitness', -31863705292.567196),\n",
       " ('Genres_Health & Fitness;Action & Adventure', -31863705291.923676),\n",
       " ('Genres_Health & Fitness;Education', -2257109157520.4087),\n",
       " ('Genres_House & Home', 534776018475.0395),\n",
       " ('Genres_Libraries & Demo', -1704608317747.167),\n",
       " ('Genres_Lifestyle', -835302951416.0428),\n",
       " ('Genres_Maps & Navigation', -1740895477627.13),\n",
       " ('Genres_Medical', -31863705292.586617),\n",
       " ('Genres_Music', -31863705291.73941),\n",
       " ('Genres_Music & Audio;Music & Video', -31863705291.989334),\n",
       " ('Genres_Music;Music & Video', 981779732909.8157),\n",
       " ('Genres_News & Magazines', -68615582299.73401),\n",
       " ('Genres_Parenting', -68615582300.14511),\n",
       " ('Genres_Parenting;Brain Games', -68615582299.99121),\n",
       " ('Genres_Parenting;Education', -68615582299.550674),\n",
       " ('Genres_Parenting;Music & Video', 173618296274.47845),\n",
       " ('Genres_Personalization', -217665696266.14236),\n",
       " ('Genres_Photography', 524990186043.6444),\n",
       " ('Genres_Productivity', -31863705292.07125),\n",
       " ('Genres_Puzzle', -31863705291.876648),\n",
       " ('Genres_Puzzle;Action & Adventure', -31863705291.901054),\n",
       " ('Genres_Puzzle;Brain Games', -31863705292.05017),\n",
       " ('Genres_Puzzle;Creativity', 2978251828.106201),\n",
       " ('Genres_Puzzle;Education', -31863705292.506245),\n",
       " ('Genres_Racing', -31863705291.936855),\n",
       " ('Genres_Racing;Action & Adventure', 577222463.6976318),\n",
       " ('Genres_Racing;Pretend Play', -31863705292.290253),\n",
       " ('Genres_Role Playing', -31863705291.931095),\n",
       " ('Genres_Role Playing;Action & Adventure', -0.00048828125),\n",
       " ('Genres_Role Playing;Pretend Play', 135273154251.81306),\n",
       " ('Genres_Shopping', -31863705292.24643),\n",
       " ('Genres_Simulation', -31863705292.231335),\n",
       " ('Genres_Simulation;Action & Adventure', -31863705292.146103),\n",
       " ('Genres_Simulation;Education', -31863705292.27583),\n",
       " ('Genres_Simulation;Pretend Play', -34167356129.748413),\n",
       " ('Genres_Social', -31863705292.25992),\n",
       " ('Genres_Sports', -31863705292.26481),\n",
       " ('Genres_Sports;Action & Adventure', -31863705292.283707),\n",
       " ('Genres_Strategy', -31863705291.783497),\n",
       " ('Genres_Strategy;Action & Adventure', -31863705292.310085),\n",
       " ('Genres_Strategy;Creativity', 0.0),\n",
       " ('Genres_Strategy;Education', -718716154889.7922),\n",
       " ('Genres_Tools', 307729679858.16235),\n",
       " ('Genres_Travel & Local', 307729679858.2792),\n",
       " ('Genres_Travel & Local;Action & Adventure', -31863705292.621223),\n",
       " ('Genres_Trivia', -31863705292.33293),\n",
       " ('Genres_Video Players & Editors', -31863705292.385418),\n",
       " ('Genres_Video Players & Editors;Creativity', 0.0),\n",
       " ('Genres_Video Players & Editors;Music & Video', 154714569170.18622),\n",
       " ('Genres_Weather', -31863705292.41564)]"
      ]
     },
     "execution_count": 264,
     "metadata": {},
     "output_type": "execute_result"
    }
   ],
   "source": [
    "list(zip(categorical_columns,model.coef_))"
   ]
  },
  {
   "cell_type": "code",
   "execution_count": 265,
   "metadata": {
    "colab": {
     "base_uri": "https://localhost:8080/",
     "height": 51
    },
    "colab_type": "code",
    "id": "ccYpGZg9hzHL",
    "outputId": "860c4e89-9354-4432-860a-b3b41604ba9a"
   },
   "outputs": [
    {
     "data": {
      "text/plain": [
       "array([4.222229  , 3.85858154, 4.35906982, ..., 4.16082764, 4.42956543,\n",
       "       4.0546875 ])"
      ]
     },
     "execution_count": 265,
     "metadata": {},
     "output_type": "execute_result"
    }
   ],
   "source": [
    "model.predict(X_test)"
   ]
  },
  {
   "cell_type": "code",
   "execution_count": 223,
   "metadata": {
    "colab": {
     "base_uri": "https://localhost:8080/",
     "height": 34
    },
    "colab_type": "code",
    "id": "Owx54QTvlKyc",
    "outputId": "85e0f4ac-fe59-4aea-f0ed-a23a575d5d4c"
   },
   "outputs": [
    {
     "name": "stdout",
     "output_type": "stream",
     "text": [
      "R2 Value/Coefficient of Determination: -1.9718843067144776e+22\n"
     ]
    }
   ],
   "source": [
    "print('R2 Value/Coefficient of Determination: {}'.format(model.score(X_test, y_test)))"
   ]
  },
  {
   "cell_type": "code",
   "execution_count": 163,
   "metadata": {
    "colab": {
     "base_uri": "https://localhost:8080/",
     "height": 288
    },
    "colab_type": "code",
    "id": "N0LEGAiujT16",
    "outputId": "262878ba-7a64-42dd-9b1b-1c805d246d05"
   },
   "outputs": [
    {
     "data": {
      "text/plain": [
       "<matplotlib.collections.PathCollection at 0x2e5fcdedc88>"
      ]
     },
     "execution_count": 163,
     "metadata": {},
     "output_type": "execute_result"
    },
    {
     "data": {
      "image/png": "[encoded data removed]",
      "text/plain": [
       "<Figure size 432x288 with 1 Axes>"
      ]
     },
     "metadata": {
      "needs_background": "light"
     },
     "output_type": "display_data"
    }
   ],
   "source": [
    "plt.scatter(y_train,model.predict(X_train))"
   ]
  },
  {
   "cell_type": "code",
   "execution_count": 164,
   "metadata": {
    "colab": {
     "base_uri": "https://localhost:8080/",
     "height": 34
    },
    "colab_type": "code",
    "id": "qO74o4zBjVaD",
    "outputId": "453b61a1-701c-445f-a4be-07754a9ef0c4"
   },
   "outputs": [
    {
     "name": "stdout",
     "output_type": "stream",
     "text": [
      "0.5378278421293847\n"
     ]
    }
   ],
   "source": [
    "from math import sqrt\n",
    "from sklearn.metrics import mean_squared_error\n",
    "print(sqrt(mean_squared_error(y_train, model.predict(X_train))))"
   ]
  },
  {
   "cell_type": "code",
   "execution_count": 165,
   "metadata": {
    "colab": {
     "base_uri": "https://localhost:8080/",
     "height": 301
    },
    "colab_type": "code",
    "id": "tJmga1fjjWVi",
    "outputId": "780a7e8f-e682-4133-ea34-33faf49688d4"
   },
   "outputs": [
    {
     "data": {
      "text/plain": [
       "<matplotlib.collections.PathCollection at 0x2e5fea50d08>"
      ]
     },
     "execution_count": 165,
     "metadata": {},
     "output_type": "execute_result"
    },
    {
     "data": {
      "image/png": "[encoded data removed]",
      "text/plain": [
       "<Figure size 432x288 with 1 Axes>"
      ]
     },
     "metadata": {
      "needs_background": "light"
     },
     "output_type": "display_data"
    }
   ],
   "source": [
    "plt.scatter(y_test,model.predict(X_test))"
   ]
  },
  {
   "cell_type": "code",
   "execution_count": 166,
   "metadata": {
    "colab": {
     "base_uri": "https://localhost:8080/",
     "height": 34
    },
    "colab_type": "code",
    "id": "-iqIpBH6jU4D",
    "outputId": "434eadf6-871e-43df-ee02-7dff48339a26"
   },
   "outputs": [
    {
     "name": "stdout",
     "output_type": "stream",
     "text": [
      "80847788598.82877\n"
     ]
    }
   ],
   "source": [
    "print(sqrt(mean_squared_error(y_test, model.predict(X_test))))"
   ]
  },
  {
   "cell_type": "code",
   "execution_count": 235,
   "metadata": {
    "colab": {
     "base_uri": "https://localhost:8080/",
     "height": 359
    },
    "colab_type": "code",
    "id": "XJBPYOCiiXi6",
    "outputId": "3265a0c2-6515-43b6-8730-ea85885d7571"
   },
   "outputs": [
    {
     "name": "stdout",
     "output_type": "stream",
     "text": [
      "       Actual  Predicted\n",
      "6533      4.3   4.222229\n",
      "9230      3.4   3.858582\n",
      "1810      4.5   4.359070\n",
      "1207      3.8   4.273621\n",
      "5195      4.0   4.003967\n",
      "...       ...        ...\n",
      "6658      4.3   4.146912\n",
      "9857      4.2   4.271423\n",
      "7422      5.0   4.160828\n",
      "10833     4.8   4.429565\n",
      "6666      4.5   4.054688\n",
      "\n",
      "[1947 rows x 2 columns]\n"
     ]
    }
   ],
   "source": [
    "#pd.DataFrame({'Actual': y_test, 'Predicted': model.predict(X_test)}).head(10)\n",
    "result = pd.DataFrame({'Actual': y_test, 'Predicted': model.predict(X_test)})\n",
    "print(result)"
   ]
  },
  {
   "cell_type": "code",
   "execution_count": null,
   "metadata": {},
   "outputs": [],
   "source": []
  }
 ],
 "metadata": {
  "colab": {
   "collapsed_sections": [],
   "name": "GooglePlaystore.ipynb",
   "provenance": [],
   "toc_visible": true
  },
  "kernelspec": {
   "display_name": "Python 3",
   "language": "python",
   "name": "python3"
  },
  "language_info": {
   "codemirror_mode": {
    "name": "ipython",
    "version": 3
   },
   "file_extension": ".py",
   "mimetype": "text/x-python",
   "name": "python",
   "nbconvert_exporter": "python",
   "pygments_lexer": "ipython3",
   "version": "3.7.4"
  }
 },
 "nbformat": 4,
 "nbformat_minor": 1
}
